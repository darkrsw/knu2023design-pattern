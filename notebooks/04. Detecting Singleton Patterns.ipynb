{
 "cells": [
  {
   "cell_type": "markdown",
   "id": "535a512a",
   "metadata": {},
   "source": [
    "# Detecting Singleton Patterns"
   ]
  },
  {
   "cell_type": "markdown",
   "id": "6b36dc34",
   "metadata": {},
   "source": [
    "## Singleton\n",
    "\n",
    "https://refactoring.guru/design-patterns/singleton\n",
    "\n"
   ]
  },
  {
   "cell_type": "markdown",
   "id": "4bce980b",
   "metadata": {},
   "source": [
    "### Obvious static class\n",
    "\n",
    "If a class contains only static (class) member variables and methods, it is a Singleton class."
   ]
  },
  {
   "cell_type": "code",
   "execution_count": 2,
   "id": "a746b54d",
   "metadata": {},
   "outputs": [
    {
     "data": {
      "text/plain": [
       "143"
      ]
     },
     "execution_count": 2,
     "metadata": {},
     "output_type": "execute_result"
    }
   ],
   "source": [
    "import javalang\n",
    "import os\n",
    "from glob import glob\n",
    "\n",
    "path = \"./commons-lang/src/main/java/org/apache/commons/lang3/**/*.java\"\n",
    "\n",
    "javafiles = list(glob(path, recursive=True))\n",
    "\n",
    "len(javafiles)"
   ]
  },
  {
   "cell_type": "code",
   "execution_count": 3,
   "id": "1ea9aa43",
   "metadata": {},
   "outputs": [],
   "source": [
    "def getAST(path: str):\n",
    "    with open(path, \"r\") as f:\n",
    "        code = f.read()\n",
    "    return javalang.parse.parse(code)"
   ]
  },
  {
   "cell_type": "code",
   "execution_count": 15,
   "id": "55e65fdd",
   "metadata": {},
   "outputs": [],
   "source": [
    "def isSingleWithAllStatic(aclass):\n",
    "    # check whether there is constructor.\n",
    "    if len(aclass.constructors) > 1:\n",
    "        return False\n",
    "    if len(aclass.constructors) > 0 and len(aclass.constructors[0].body) > 1:\n",
    "        if not isinstance(aclass.constructors[0].body[0], javalang.tree.SuperConstructorInvocation):\n",
    "            return False\n",
    "    for memvar in aclass.fields:\n",
    "        if \"static\" not in memvar.modifiers:\n",
    "            return False\n",
    "    for method in aclass.methods:\n",
    "        if \"static\" not in method.modifiers:\n",
    "            return False\n",
    "    \n",
    "    return True\n"
   ]
  },
  {
   "cell_type": "code",
   "execution_count": 16,
   "id": "caff2847",
   "metadata": {},
   "outputs": [
    {
     "name": "stdout",
     "output_type": "stream",
     "text": [
      "LocaleUtils in ./commons-lang/src/main/java/org/apache/commons/lang3/LocaleUtils.java\n",
      "SyncAvoid in ./commons-lang/src/main/java/org/apache/commons/lang3/LocaleUtils.java\n",
      "SerializationUtils in ./commons-lang/src/main/java/org/apache/commons/lang3/SerializationUtils.java\n",
      "Conversion in ./commons-lang/src/main/java/org/apache/commons/lang3/Conversion.java\n",
      "SystemUtils in ./commons-lang/src/main/java/org/apache/commons/lang3/SystemUtils.java\n",
      "StringUtils in ./commons-lang/src/main/java/org/apache/commons/lang3/StringUtils.java\n",
      "StringEscapeUtils in ./commons-lang/src/main/java/org/apache/commons/lang3/StringEscapeUtils.java\n",
      "ClassUtils in ./commons-lang/src/main/java/org/apache/commons/lang3/ClassUtils.java\n",
      "ArrayUtils in ./commons-lang/src/main/java/org/apache/commons/lang3/ArrayUtils.java\n",
      "RandomStringUtils in ./commons-lang/src/main/java/org/apache/commons/lang3/RandomStringUtils.java\n",
      "CharSequenceUtils in ./commons-lang/src/main/java/org/apache/commons/lang3/CharSequenceUtils.java\n",
      "CharEncoding in ./commons-lang/src/main/java/org/apache/commons/lang3/CharEncoding.java\n",
      "CharUtils in ./commons-lang/src/main/java/org/apache/commons/lang3/CharUtils.java\n",
      "Validate in ./commons-lang/src/main/java/org/apache/commons/lang3/Validate.java\n",
      "RandomUtils in ./commons-lang/src/main/java/org/apache/commons/lang3/RandomUtils.java\n",
      "ObjectUtils in ./commons-lang/src/main/java/org/apache/commons/lang3/ObjectUtils.java\n",
      "AnnotationUtils in ./commons-lang/src/main/java/org/apache/commons/lang3/AnnotationUtils.java\n",
      "BooleanUtils in ./commons-lang/src/main/java/org/apache/commons/lang3/BooleanUtils.java\n",
      "ClassPathUtils in ./commons-lang/src/main/java/org/apache/commons/lang3/ClassPathUtils.java\n",
      "ThreadUtils in ./commons-lang/src/main/java/org/apache/commons/lang3/ThreadUtils.java\n",
      "EnumUtils in ./commons-lang/src/main/java/org/apache/commons/lang3/EnumUtils.java\n",
      "CharSetUtils in ./commons-lang/src/main/java/org/apache/commons/lang3/CharSetUtils.java\n",
      "TypeUtils in ./commons-lang/src/main/java/org/apache/commons/lang3/reflect/TypeUtils.java\n",
      "InheritanceUtils in ./commons-lang/src/main/java/org/apache/commons/lang3/reflect/InheritanceUtils.java\n",
      "MethodUtils in ./commons-lang/src/main/java/org/apache/commons/lang3/reflect/MethodUtils.java\n",
      "MemberUtils in ./commons-lang/src/main/java/org/apache/commons/lang3/reflect/MemberUtils.java\n",
      "ConstructorUtils in ./commons-lang/src/main/java/org/apache/commons/lang3/reflect/ConstructorUtils.java\n",
      "FieldUtils in ./commons-lang/src/main/java/org/apache/commons/lang3/reflect/FieldUtils.java\n",
      "NumberUtils in ./commons-lang/src/main/java/org/apache/commons/lang3/math/NumberUtils.java\n",
      "IEEE754rUtils in ./commons-lang/src/main/java/org/apache/commons/lang3/math/IEEE754rUtils.java\n",
      "CalendarReflection in ./commons-lang/src/main/java/org/apache/commons/lang3/time/CalendarReflection.java\n",
      "DateUtils in ./commons-lang/src/main/java/org/apache/commons/lang3/time/DateUtils.java\n",
      "DurationFormatUtils in ./commons-lang/src/main/java/org/apache/commons/lang3/time/DurationFormatUtils.java\n",
      "DateFormatUtils in ./commons-lang/src/main/java/org/apache/commons/lang3/time/DateFormatUtils.java\n",
      "ConcurrentUtils in ./commons-lang/src/main/java/org/apache/commons/lang3/concurrent/ConcurrentUtils.java\n",
      "FormattableUtils in ./commons-lang/src/main/java/org/apache/commons/lang3/text/FormattableUtils.java\n",
      "WordUtils in ./commons-lang/src/main/java/org/apache/commons/lang3/text/WordUtils.java\n",
      "EntityArrays in ./commons-lang/src/main/java/org/apache/commons/lang3/text/translate/EntityArrays.java\n",
      "ExceptionUtils in ./commons-lang/src/main/java/org/apache/commons/lang3/exception/ExceptionUtils.java\n",
      "EventUtils in ./commons-lang/src/main/java/org/apache/commons/lang3/event/EventUtils.java\n"
     ]
    }
   ],
   "source": [
    "for javafile in javafiles:\n",
    "    myast = getAST(javafile)\n",
    "    for path, node in javalang.ast.walk_tree(myast):\n",
    "        if isinstance(node, javalang.tree.ClassDeclaration):\n",
    "            if isSingleWithAllStatic(node):\n",
    "                print(f\"{node.name} in {javafile}\")"
   ]
  },
  {
   "cell_type": "code",
   "execution_count": 9,
   "id": "25ea3353",
   "metadata": {},
   "outputs": [
    {
     "name": "stdout",
     "output_type": "stream",
     "text": [
      "[ConstructorDeclaration(annotations=[], body=[StatementExpression(expression=SuperConstructorInvocation(arguments=[], postfix_operators=[], prefix_operators=[], qualifier=None, selectors=[], type_arguments=None), label=None)], documentation=/**\n",
      "     * <p>ArrayUtils instances should NOT be constructed in standard programming.\n",
      "     * Instead, the class should be used as <code>ArrayUtils.clone(new int[] {2})</code>.\n",
      "     *\n",
      "     * <p>This constructor is public to permit tools that require a JavaBean instance\n",
      "     * to operate.\n",
      "     */, modifiers={'public'}, name=ArrayUtils, parameters=[], throws=None, type_parameters=None)]\n"
     ]
    }
   ],
   "source": [
    "for javafile in javafiles:\n",
    "    if \"ArrayUtils.java\" in javafile:\n",
    "        myast = getAST(javafile)\n",
    "        for path, node in javalang.ast.walk_tree(myast):\n",
    "#             if isinstance(node, javalang.tree.ClassDeclaration):\n",
    "#                 print(node.constructors)\n",
    "#                     return False\n",
    "                for memvar in aclass.fields:\n",
    "                    if \"static\" not in memvar.modifiers:\n",
    "                        return False\n",
    "#                 for method in aclass.methods:\n",
    "#                     if \"static\" not in method.modifiers:\n",
    "#                         return False"
   ]
  },
  {
   "cell_type": "markdown",
   "id": "fac1ef81",
   "metadata": {},
   "source": [
    "### Private constructors and static object creator\n",
    "\n",
    "If a class has only private constructors and there is static object creator returning its type, it is a Singleton class.\n"
   ]
  },
  {
   "cell_type": "code",
   "execution_count": 1,
   "id": "18efef34",
   "metadata": {},
   "outputs": [
    {
     "name": "stdout",
     "output_type": "stream",
     "text": [
      "Cloning into 'Design-Patterns'...\n",
      "remote: Enumerating objects: 555, done.\u001b[K\n",
      "remote: Counting objects: 100% (555/555), done.\u001b[K\n",
      "remote: Compressing objects: 100% (371/371), done.\u001b[K\n",
      "remote: Total 555 (delta 174), reused 495 (delta 118), pack-reused 0\u001b[K\n",
      "Receiving objects: 100% (555/555), 87.42 KiB | 3.80 MiB/s, done.\n",
      "Resolving deltas: 100% (174/174), done.\n"
     ]
    }
   ],
   "source": [
    "!git clone https://github.com/piyush6348/Design-Patterns.git"
   ]
  },
  {
   "cell_type": "code",
   "execution_count": 2,
   "id": "59e23ca9-612e-4346-8be5-fbdeca4b584a",
   "metadata": {},
   "outputs": [
    {
     "data": {
      "text/plain": [
       "144"
      ]
     },
     "execution_count": 2,
     "metadata": {},
     "output_type": "execute_result"
    }
   ],
   "source": [
    "import javalang\n",
    "import os\n",
    "from glob import glob\n",
    "\n",
    "path = \"./Design-Patterns/**/*.java\"\n",
    "\n",
    "javafiles = list(glob(path, recursive=True))\n",
    "\n",
    "len(javafiles)"
   ]
  },
  {
   "cell_type": "code",
   "execution_count": null,
   "id": "cc162e70-ee00-46e0-8f31-ada3efd3552e",
   "metadata": {},
   "outputs": [],
   "source": [
    "for javafile in javafiles:\n",
    "    myast = getAST(javafile)\n",
    "    for path, node in javalang.ast.walk_tree(myast):\n",
    "        if isinstance(node, javalang.tree.ClassDeclaration):\n",
    "            "
   ]
  }
 ],
 "metadata": {
  "kernelspec": {
   "display_name": "Python 3 (ipykernel)",
   "language": "python",
   "name": "python3"
  },
  "language_info": {
   "codemirror_mode": {
    "name": "ipython",
    "version": 3
   },
   "file_extension": ".py",
   "mimetype": "text/x-python",
   "name": "python",
   "nbconvert_exporter": "python",
   "pygments_lexer": "ipython3",
   "version": "3.11.6"
  }
 },
 "nbformat": 4,
 "nbformat_minor": 5
}
