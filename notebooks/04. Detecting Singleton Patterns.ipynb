{
 "cells": [
  {
   "cell_type": "markdown",
   "id": "535a512a",
   "metadata": {},
   "source": [
    "# Detecting Singleton Patterns"
   ]
  },
  {
   "cell_type": "markdown",
   "id": "6b36dc34",
   "metadata": {},
   "source": [
    "## Singleton\n",
    "\n",
    "https://refactoring.guru/design-patterns/singleton\n",
    "\n"
   ]
  },
  {
   "cell_type": "markdown",
   "id": "4bce980b",
   "metadata": {},
   "source": [
    "### Obvious static class\n",
    "\n",
    "If a class contains only static (class) member variables and methods, it is a Singleton class."
   ]
  },
  {
   "cell_type": "code",
   "execution_count": null,
   "id": "a746b54d",
   "metadata": {},
   "outputs": [],
   "source": []
  },
  {
   "cell_type": "markdown",
   "id": "fac1ef81",
   "metadata": {},
   "source": [
    "### Private constructors and static object creator\n",
    "\n",
    "If a class has only private constructors and there is static object creator returning its type, it is a Singleton class.\n"
   ]
  },
  {
   "cell_type": "code",
   "execution_count": null,
   "id": "18efef34",
   "metadata": {},
   "outputs": [],
   "source": []
  }
 ],
 "metadata": {
  "kernelspec": {
   "display_name": "Python 3 (ipykernel)",
   "language": "python",
   "name": "python3"
  },
  "language_info": {
   "codemirror_mode": {
    "name": "ipython",
    "version": 3
   },
   "file_extension": ".py",
   "mimetype": "text/x-python",
   "name": "python",
   "nbconvert_exporter": "python",
   "pygments_lexer": "ipython3",
   "version": "3.11.6"
  }
 },
 "nbformat": 4,
 "nbformat_minor": 5
}
