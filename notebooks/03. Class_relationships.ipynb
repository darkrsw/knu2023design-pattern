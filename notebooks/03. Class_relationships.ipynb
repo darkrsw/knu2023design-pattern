{
 "cells": [
  {
   "cell_type": "markdown",
   "id": "3c81e7d3-4c1d-49ea-a663-4a5b337e9fc5",
   "metadata": {},
   "source": [
    "# Class level relationships"
   ]
  },
  {
   "cell_type": "markdown",
   "id": "0049271f-cb1d-465b-9bde-c5378c465be3",
   "metadata": {},
   "source": [
    "## Generalization"
   ]
  },
  {
   "cell_type": "markdown",
   "id": "e00bc075-c439-4baa-bf44-852fd7b9b159",
   "metadata": {},
   "source": [
    "We need a target project rather than a single file."
   ]
  },
  {
   "cell_type": "code",
   "execution_count": 33,
   "id": "026c7a75-ce97-416c-8c1e-4b7b7dbf5539",
   "metadata": {},
   "outputs": [
    {
     "name": "stdout",
     "output_type": "stream",
     "text": [
      "fatal: destination path 'brigadier' already exists and is not an empty directory.\r\n"
     ]
    }
   ],
   "source": [
    "# Clone a target project. This time, we try Mojang/brigadier, a MineCraft program.\n",
    "!git clone git@github.com:Mojang/brigadier.git"
   ]
  },
  {
   "cell_type": "code",
   "execution_count": 34,
   "id": "987887f2-8e30-46b3-aae6-5e3545569dff",
   "metadata": {},
   "outputs": [],
   "source": [
    "# First, we need to read many java files.\n",
    "# from os.path import isfile, join\n",
    "import os\n",
    "\n",
    "path = \"./brigadier/src/main/java/**/*.java\"\n",
    "\n",
    "from glob import glob\n",
    "\n",
    "\n",
    "for filename in glob(path, recursive=True):\n",
    "#     print(filename)\n",
    "    pass"
   ]
  },
  {
   "cell_type": "code",
   "execution_count": 35,
   "id": "870dcdb6-7c6f-468d-b097-6dc5c8369340",
   "metadata": {},
   "outputs": [
    {
     "data": {
      "text/plain": [
       "47"
      ]
     },
     "execution_count": 35,
     "metadata": {},
     "output_type": "execute_result"
    }
   ],
   "source": [
    "javafiles = list(glob(path, recursive=True))\n",
    "len(javafiles)"
   ]
  },
  {
   "cell_type": "code",
   "execution_count": 36,
   "id": "e898dfda-bc30-4c5e-8e6f-6a00c5380905",
   "metadata": {},
   "outputs": [],
   "source": [
    "## Parser function\n",
    "import javalang\n",
    "\n",
    "def getAST(path: str):\n",
    "    with open(path, \"r\") as f:\n",
    "        code = f.read()\n",
    "    return javalang.parse.parse(code)"
   ]
  },
  {
   "cell_type": "markdown",
   "id": "ec7fe60b-efde-4da8-b695-4069fb748697",
   "metadata": {},
   "source": [
    "## Get AST one-by-one"
   ]
  },
  {
   "cell_type": "code",
   "execution_count": 37,
   "id": "0451a21c",
   "metadata": {},
   "outputs": [],
   "source": [
    "# print(javafiles[0])\n",
    "myast = getAST(javafiles[14])\n",
    "# myast"
   ]
  },
  {
   "cell_type": "markdown",
   "id": "1d0f25de-450f-40f8-9da0-47a453b8912f",
   "metadata": {},
   "source": [
    "## Detect `extends` and `implements`"
   ]
  },
  {
   "cell_type": "code",
   "execution_count": 38,
   "id": "67e6a7f9",
   "metadata": {},
   "outputs": [],
   "source": [
    "gen_real_dict = {}\n",
    "\n",
    "for javafile in javafiles:\n",
    "    myast = getAST(javafile)\n",
    "    for path, node in javalang.ast.walk_tree(myast):\n",
    "        if isinstance(node, javalang.tree.ClassDeclaration):\n",
    "            gen_real_dict[node.name] = { \"extends\": node.extends.name if node.extends is not None else None,\n",
    "                                         \"implements\": list([atype.name for atype in node.implements]) if node.implements is not None else None,\n",
    "                                         \"type\": \"class\"}\n",
    "#             print(\"=====\")\n",
    "#             print(\"Class:\", node.name)\n",
    "#             print(\"Extends:\", node.extends)\n",
    "#             print(\"Implements:\", node.implements)\n",
    "        elif isinstance(node, javalang.tree.InterfaceDeclaration):\n",
    "            gen_real_dict[node.name] = { \"extends\": node.extends.name if node.extends is not None else None,\n",
    "                                         \"type\": \"interface\"}\n",
    "#             print(\"=====\")\n",
    "#             print(\"Interface:\", node.name)\n",
    "#             print(\"Extends:\", node.extends)\n",
    "        elif isinstance(node, javalang.tree.AnnotationDeclaration):\n",
    "            gen_real_dict[node.name] = {}\n",
    "#             print(\"=====\")\n",
    "#             print(\"Annotation:\", node.name)\n",
    "        elif isinstance(node, javalang.tree.EnumDeclaration):\n",
    "            gen_real_dict[node.name] = { \"implements\": list([atype.name for atype in node.implements]) if node.implements is not None else None,\n",
    "                                         \"type\": \"enum\"}\n",
    "#             print(\"=====\")\n",
    "#             print(\"Enum:\", node.name)\n",
    "#             print(\"Implements:\", node.implements)    "
   ]
  },
  {
   "cell_type": "code",
   "execution_count": 39,
   "id": "2dcc1543",
   "metadata": {},
   "outputs": [
    {
     "name": "stdout",
     "output_type": "stream",
     "text": [
      "SingleRedirectModifier is dangling\n",
      "ResultConsumer is dangling\n",
      "Command is dangling\n",
      "ParseResults is dangling\n",
      "RedirectModifier is dangling\n",
      "AmbiguityConsumer is dangling\n",
      "CommandDispatcher is dangling\n",
      "ParsedArgument is dangling\n",
      "SuggestionContext is dangling\n",
      "CommandContextBuilder is dangling\n",
      "ContextChain is dangling\n",
      "Stage is dangling\n",
      "StringRange is dangling\n",
      "ParsedCommandNode is dangling\n",
      "CommandContext is dangling\n",
      "SuggestionProvider is dangling\n",
      "Suggestions is dangling\n",
      "SuggestionsBuilder is dangling\n",
      "Function is dangling\n",
      "StringType is dangling\n"
     ]
    }
   ],
   "source": [
    "# gen_real_dict\n",
    "for key, value in gen_real_dict.items():\n",
    "    if value[\"type\"] == \"class\":\n",
    "        if value[\"extends\"] is not None:\n",
    "            gen_real_dict[key][\"dangling\"] = False\n",
    "            if value[\"extends\"] in gen_real_dict:\n",
    "                gen_real_dict[value[\"extends\"]][\"dangling\"] = False\n",
    "        if value[\"implements\"] is not None:\n",
    "            for aiterface in value[\"implements\"]:\n",
    "                gen_real_dict[key][\"dangling\"] = False\n",
    "                if aiterface in gen_real_dict:\n",
    "                    gen_real_dict[aiterface][\"dangling\"] = False\n",
    "    elif value[\"type\"] == \"interface\":\n",
    "        if value[\"extends\"] is not None:\n",
    "            gen_real_dict[key][\"dangling\"] = False\n",
    "            if value[\"extends\"] in gen_real_dict:\n",
    "                gen_real_dict[value[\"extends\"]][\"dangling\"] = False\n",
    "#     if value[\"implements\"] is not None and len(value[\"implements\"]) > 1:\n",
    "#         print(f\"{key}:\", value[\"implements\"])\n",
    "\n",
    "for key, value in gen_real_dict.items():\n",
    "    if \"dangling\" not in value:\n",
    "        print(f\"{key} is dangling\")"
   ]
  },
  {
   "cell_type": "markdown",
   "id": "7d68682e",
   "metadata": {},
   "source": [
    "### Excercise: Identify dangling interfaces\n",
    "It should be useful if we can figure out interfaces, which are not implemented by any other classes or is not a parent interface of anohter interface."
   ]
  },
  {
   "cell_type": "code",
   "execution_count": 40,
   "id": "d1ba9925",
   "metadata": {},
   "outputs": [
    {
     "data": {
      "text/plain": [
       "{'SingleRedirectModifier': {'extends': None, 'type': 'interface'},\n",
       " 'Message': {'extends': None, 'type': 'interface', 'dangling': False},\n",
       " 'ResultConsumer': {'extends': None, 'type': 'interface'},\n",
       " 'Command': {'extends': None, 'type': 'interface'},\n",
       " 'StringReader': {'extends': None,\n",
       "  'implements': ['ImmutableStringReader'],\n",
       "  'type': 'class',\n",
       "  'dangling': False},\n",
       " 'ParseResults': {'extends': None, 'implements': None, 'type': 'class'},\n",
       " 'ImmutableStringReader': {'extends': None,\n",
       "  'type': 'interface',\n",
       "  'dangling': False},\n",
       " 'RedirectModifier': {'extends': None, 'type': 'interface'},\n",
       " 'AmbiguityConsumer': {'extends': None, 'type': 'interface'},\n",
       " 'LiteralMessage': {'extends': None,\n",
       "  'implements': ['Message'],\n",
       "  'type': 'class',\n",
       "  'dangling': False},\n",
       " 'CommandDispatcher': {'extends': None, 'implements': None, 'type': 'class'},\n",
       " 'ArgumentCommandNode': {'extends': 'CommandNode',\n",
       "  'implements': None,\n",
       "  'type': 'class',\n",
       "  'dangling': False},\n",
       " 'LiteralCommandNode': {'extends': 'CommandNode',\n",
       "  'implements': None,\n",
       "  'type': 'class',\n",
       "  'dangling': False},\n",
       " 'CommandNode': {'extends': None,\n",
       "  'implements': ['Comparable'],\n",
       "  'type': 'class',\n",
       "  'dangling': False},\n",
       " 'RootCommandNode': {'extends': 'CommandNode',\n",
       "  'implements': None,\n",
       "  'type': 'class',\n",
       "  'dangling': False},\n",
       " 'ParsedArgument': {'extends': None, 'implements': None, 'type': 'class'},\n",
       " 'SuggestionContext': {'extends': None, 'implements': None, 'type': 'class'},\n",
       " 'CommandContextBuilder': {'extends': None,\n",
       "  'implements': None,\n",
       "  'type': 'class'},\n",
       " 'ContextChain': {'extends': None, 'implements': None, 'type': 'class'},\n",
       " 'Stage': {'implements': None, 'type': 'enum'},\n",
       " 'StringRange': {'extends': None, 'implements': None, 'type': 'class'},\n",
       " 'ParsedCommandNode': {'extends': None, 'implements': None, 'type': 'class'},\n",
       " 'CommandContext': {'extends': None, 'implements': None, 'type': 'class'},\n",
       " 'SuggestionProvider': {'extends': None, 'type': 'interface'},\n",
       " 'Suggestions': {'extends': None, 'implements': None, 'type': 'class'},\n",
       " 'SuggestionsBuilder': {'extends': None, 'implements': None, 'type': 'class'},\n",
       " 'IntegerSuggestion': {'extends': 'Suggestion',\n",
       "  'implements': None,\n",
       "  'type': 'class',\n",
       "  'dangling': False},\n",
       " 'Suggestion': {'extends': None,\n",
       "  'implements': ['Comparable'],\n",
       "  'type': 'class',\n",
       "  'dangling': False},\n",
       " 'BuiltInExceptions': {'extends': None,\n",
       "  'implements': ['BuiltInExceptionProvider'],\n",
       "  'type': 'class',\n",
       "  'dangling': False},\n",
       " 'CommandSyntaxException': {'extends': 'Exception',\n",
       "  'implements': None,\n",
       "  'type': 'class',\n",
       "  'dangling': False},\n",
       " 'DynamicCommandExceptionType': {'extends': None,\n",
       "  'implements': ['CommandExceptionType'],\n",
       "  'type': 'class',\n",
       "  'dangling': False},\n",
       " 'BuiltInExceptionProvider': {'extends': None,\n",
       "  'type': 'interface',\n",
       "  'dangling': False},\n",
       " 'Dynamic4CommandExceptionType': {'extends': None,\n",
       "  'implements': ['CommandExceptionType'],\n",
       "  'type': 'class',\n",
       "  'dangling': False},\n",
       " 'Function': {'extends': None, 'type': 'interface'},\n",
       " 'CommandExceptionType': {'extends': None,\n",
       "  'type': 'interface',\n",
       "  'dangling': False},\n",
       " 'Dynamic2CommandExceptionType': {'extends': None,\n",
       "  'implements': ['CommandExceptionType'],\n",
       "  'type': 'class',\n",
       "  'dangling': False},\n",
       " 'SimpleCommandExceptionType': {'extends': None,\n",
       "  'implements': ['CommandExceptionType'],\n",
       "  'type': 'class',\n",
       "  'dangling': False},\n",
       " 'DynamicNCommandExceptionType': {'extends': None,\n",
       "  'implements': ['CommandExceptionType'],\n",
       "  'type': 'class',\n",
       "  'dangling': False},\n",
       " 'Dynamic3CommandExceptionType': {'extends': None,\n",
       "  'implements': ['CommandExceptionType'],\n",
       "  'type': 'class',\n",
       "  'dangling': False},\n",
       " 'RequiredArgumentBuilder': {'extends': 'ArgumentBuilder',\n",
       "  'implements': None,\n",
       "  'type': 'class',\n",
       "  'dangling': False},\n",
       " 'LiteralArgumentBuilder': {'extends': 'ArgumentBuilder',\n",
       "  'implements': None,\n",
       "  'type': 'class',\n",
       "  'dangling': False},\n",
       " 'ArgumentBuilder': {'extends': None,\n",
       "  'implements': None,\n",
       "  'type': 'class',\n",
       "  'dangling': False},\n",
       " 'BoolArgumentType': {'extends': None,\n",
       "  'implements': ['ArgumentType'],\n",
       "  'type': 'class',\n",
       "  'dangling': False},\n",
       " 'LongArgumentType': {'extends': None,\n",
       "  'implements': ['ArgumentType'],\n",
       "  'type': 'class',\n",
       "  'dangling': False},\n",
       " 'StringArgumentType': {'extends': None,\n",
       "  'implements': ['ArgumentType'],\n",
       "  'type': 'class',\n",
       "  'dangling': False},\n",
       " 'StringType': {'implements': None, 'type': 'enum'},\n",
       " 'IntegerArgumentType': {'extends': None,\n",
       "  'implements': ['ArgumentType'],\n",
       "  'type': 'class',\n",
       "  'dangling': False},\n",
       " 'FloatArgumentType': {'extends': None,\n",
       "  'implements': ['ArgumentType'],\n",
       "  'type': 'class',\n",
       "  'dangling': False},\n",
       " 'DoubleArgumentType': {'extends': None,\n",
       "  'implements': ['ArgumentType'],\n",
       "  'type': 'class',\n",
       "  'dangling': False},\n",
       " 'ArgumentType': {'extends': None, 'type': 'interface', 'dangling': False}}"
      ]
     },
     "execution_count": 40,
     "metadata": {},
     "output_type": "execute_result"
    }
   ],
   "source": [
    "gen_real_dict"
   ]
  },
  {
   "cell_type": "markdown",
   "id": "f85d3c3c-0ba3-4725-a1c1-62e648f7622e",
   "metadata": {},
   "source": [
    "## Store generalization relationships in a data structure"
   ]
  },
  {
   "cell_type": "code",
   "execution_count": 41,
   "id": "6aea2b99",
   "metadata": {},
   "outputs": [
    {
     "name": "stdout",
     "output_type": "stream",
     "text": [
      "ArgumentCommandNode -> CommandNode\n",
      "LiteralCommandNode -> CommandNode\n",
      "RootCommandNode -> CommandNode\n",
      "IntegerSuggestion -> Suggestion\n",
      "CommandSyntaxException -> Exception\n",
      "RequiredArgumentBuilder -> ArgumentBuilder\n",
      "LiteralArgumentBuilder -> ArgumentBuilder\n"
     ]
    }
   ],
   "source": [
    "for key, value in gen_real_dict.items():\n",
    "    if \"extends\" in value and value[\"extends\"] is not None:\n",
    "        parent = value[\"extends\"]\n",
    "        print(f\"{key} -> {parent}\")"
   ]
  },
  {
   "cell_type": "markdown",
   "id": "03659c38",
   "metadata": {},
   "source": [
    "### Excercise: making inverse relationships of generalization\n",
    "Currently, we have `subclass -> parentclass`. We can computer `parentclass -> subclass`.\n",
    "\n",
    "In addition, we can create a forest of class hierarchy in a project by using the above information."
   ]
  },
  {
   "cell_type": "markdown",
   "id": "55d085f8-04fd-4fd9-8291-90916105134f",
   "metadata": {},
   "source": [
    "# Association"
   ]
  },
  {
   "cell_type": "markdown",
   "id": "27791f55-3736-4047-a010-e23ea49bb98f",
   "metadata": {},
   "source": [
    "## Composition\n",
    "It is quite challenging to figure out compositions in Java as it needs dynamic information."
   ]
  },
  {
   "cell_type": "markdown",
   "id": "f7ad731f-1a1e-4d8c-a0f5-9799b86d975b",
   "metadata": {},
   "source": [
    "## Aggregation"
   ]
  },
  {
   "cell_type": "markdown",
   "id": "59793a85",
   "metadata": {},
   "source": [
    "#### Fields (member variables)\n",
    "\n",
    "Collect field information of each class."
   ]
  },
  {
   "cell_type": "code",
   "execution_count": 42,
   "id": "c5aecbf9",
   "metadata": {},
   "outputs": [],
   "source": [
    "classes = {}\n",
    "\n",
    "for javafile in javafiles:\n",
    "    myast = getAST(javafile)\n",
    "    for path, node in javalang.ast.walk_tree(myast):\n",
    "        if isinstance(node, javalang.tree.ClassDeclaration):\n",
    "           classes[node.name] = {\"ast_node\": node}"
   ]
  },
  {
   "cell_type": "code",
   "execution_count": 43,
   "id": "2a66daa2",
   "metadata": {},
   "outputs": [],
   "source": [
    "for cname, props in classes.items():\n",
    "    fields = {}\n",
    "    for field in props[\"ast_node\"].fields:\n",
    "        type_names = []\n",
    "        if isinstance(field.type, javalang.tree.BasicType):\n",
    "            type_names.append(field.type.name)\n",
    "        elif isinstance(field.type, javalang.tree.ReferenceType):\n",
    "            type_names.append(field.type.name)\n",
    "            if field.type.arguments is not None:\n",
    "                for path, node in javalang.ast.walk_tree(field.type.arguments):\n",
    "                    if isinstance(node, javalang.tree.ReferenceType):\n",
    "                        type_names.append(node.name)\n",
    "        for decl in field.declarators:\n",
    "            fields[decl.name] = {\n",
    "                \"static\": True if \"static\" in field.modifiers else False,\n",
    "                \"types\": type_names\n",
    "            }\n",
    "    classes[cname][\"fields\"] = fields"
   ]
  },
  {
   "cell_type": "markdown",
   "id": "83307041",
   "metadata": {},
   "source": [
    "Check fields for each class."
   ]
  },
  {
   "cell_type": "code",
   "execution_count": 44,
   "id": "45a44404",
   "metadata": {},
   "outputs": [
    {
     "name": "stdout",
     "output_type": "stream",
     "text": [
      "StringReader:\n",
      "\tSYNTAX_ESCAPE: {'static': True, 'types': ['char']}\n",
      "\tSYNTAX_DOUBLE_QUOTE: {'static': True, 'types': ['char']}\n",
      "\tSYNTAX_SINGLE_QUOTE: {'static': True, 'types': ['char']}\n",
      "\tstring: {'static': False, 'types': ['String']}\n",
      "\tcursor: {'static': False, 'types': ['int']}\n",
      "ParseResults:\n",
      "\tcontext: {'static': False, 'types': ['CommandContextBuilder', 'S']}\n",
      "\texceptions: {'static': False, 'types': ['Map', 'CommandNode', 'S', 'CommandSyntaxException']}\n",
      "\treader: {'static': False, 'types': ['ImmutableStringReader']}\n",
      "LiteralMessage:\n",
      "\tstring: {'static': False, 'types': ['String']}\n",
      "CommandDispatcher:\n",
      "\tARGUMENT_SEPARATOR: {'static': True, 'types': ['String']}\n",
      "\tARGUMENT_SEPARATOR_CHAR: {'static': True, 'types': ['char']}\n",
      "\tUSAGE_OPTIONAL_OPEN: {'static': True, 'types': ['String']}\n",
      "\tUSAGE_OPTIONAL_CLOSE: {'static': True, 'types': ['String']}\n",
      "\tUSAGE_REQUIRED_OPEN: {'static': True, 'types': ['String']}\n",
      "\tUSAGE_REQUIRED_CLOSE: {'static': True, 'types': ['String']}\n",
      "\tUSAGE_OR: {'static': True, 'types': ['String']}\n",
      "\troot: {'static': False, 'types': ['RootCommandNode', 'S']}\n",
      "\thasCommand: {'static': False, 'types': ['Predicate', 'CommandNode', 'S']}\n",
      "\tconsumer: {'static': False, 'types': ['ResultConsumer', 'S']}\n",
      "ArgumentCommandNode:\n",
      "\tUSAGE_ARGUMENT_OPEN: {'static': True, 'types': ['String']}\n",
      "\tUSAGE_ARGUMENT_CLOSE: {'static': True, 'types': ['String']}\n",
      "\tname: {'static': False, 'types': ['String']}\n",
      "\ttype: {'static': False, 'types': ['ArgumentType', 'T']}\n",
      "\tcustomSuggestions: {'static': False, 'types': ['SuggestionProvider', 'S']}\n",
      "LiteralCommandNode:\n",
      "\tliteral: {'static': False, 'types': ['String']}\n",
      "\tliteralLowerCase: {'static': False, 'types': ['String']}\n",
      "CommandNode:\n",
      "\tchildren: {'static': False, 'types': ['Map', 'String', 'CommandNode', 'S']}\n",
      "\tliterals: {'static': False, 'types': ['Map', 'String', 'LiteralCommandNode', 'S']}\n",
      "\targuments: {'static': False, 'types': ['Map', 'String', 'ArgumentCommandNode', 'S']}\n",
      "\trequirement: {'static': False, 'types': ['Predicate', 'S']}\n",
      "\tredirect: {'static': False, 'types': ['CommandNode', 'S']}\n",
      "\tmodifier: {'static': False, 'types': ['RedirectModifier', 'S']}\n",
      "\tforks: {'static': False, 'types': ['boolean']}\n",
      "\tcommand: {'static': False, 'types': ['Command', 'S']}\n",
      "RootCommandNode:\n",
      "ParsedArgument:\n",
      "\trange: {'static': False, 'types': ['StringRange']}\n",
      "\tresult: {'static': False, 'types': ['T']}\n",
      "SuggestionContext:\n",
      "\tparent: {'static': False, 'types': ['CommandNode', 'S']}\n",
      "\tstartPos: {'static': False, 'types': ['int']}\n",
      "CommandContextBuilder:\n",
      "\targuments: {'static': False, 'types': ['Map', 'String', 'ParsedArgument', 'S']}\n",
      "\trootNode: {'static': False, 'types': ['CommandNode', 'S']}\n",
      "\tnodes: {'static': False, 'types': ['List', 'ParsedCommandNode', 'S']}\n",
      "\tdispatcher: {'static': False, 'types': ['CommandDispatcher', 'S']}\n",
      "\tsource: {'static': False, 'types': ['S']}\n",
      "\tcommand: {'static': False, 'types': ['Command', 'S']}\n",
      "\tchild: {'static': False, 'types': ['CommandContextBuilder', 'S']}\n",
      "\trange: {'static': False, 'types': ['StringRange']}\n",
      "\tmodifier: {'static': False, 'types': ['RedirectModifier', 'S']}\n",
      "\tforks: {'static': False, 'types': ['boolean']}\n",
      "ContextChain:\n",
      "\tmodifiers: {'static': False, 'types': ['List', 'CommandContext', 'S']}\n",
      "\texecutable: {'static': False, 'types': ['CommandContext', 'S']}\n",
      "\tnextStageCache: {'static': False, 'types': ['ContextChain', 'S']}\n",
      "StringRange:\n",
      "\tstart: {'static': False, 'types': ['int']}\n",
      "\tend: {'static': False, 'types': ['int']}\n",
      "ParsedCommandNode:\n",
      "\tnode: {'static': False, 'types': ['CommandNode', 'S']}\n",
      "\trange: {'static': False, 'types': ['StringRange']}\n",
      "CommandContext:\n",
      "\tPRIMITIVE_TO_WRAPPER: {'static': True, 'types': ['Map', 'Class', 'Class']}\n",
      "\tsource: {'static': False, 'types': ['S']}\n",
      "\tinput: {'static': False, 'types': ['String']}\n",
      "\tcommand: {'static': False, 'types': ['Command', 'S']}\n",
      "\targuments: {'static': False, 'types': ['Map', 'String', 'ParsedArgument', 'S']}\n",
      "\trootNode: {'static': False, 'types': ['CommandNode', 'S']}\n",
      "\tnodes: {'static': False, 'types': ['List', 'ParsedCommandNode', 'S']}\n",
      "\trange: {'static': False, 'types': ['StringRange']}\n",
      "\tchild: {'static': False, 'types': ['CommandContext', 'S']}\n",
      "\tmodifier: {'static': False, 'types': ['RedirectModifier', 'S']}\n",
      "\tforks: {'static': False, 'types': ['boolean']}\n",
      "Suggestions:\n",
      "\tEMPTY: {'static': True, 'types': ['Suggestions']}\n",
      "\trange: {'static': False, 'types': ['StringRange']}\n",
      "\tsuggestions: {'static': False, 'types': ['List', 'Suggestion']}\n",
      "SuggestionsBuilder:\n",
      "\tinput: {'static': False, 'types': ['String']}\n",
      "\tinputLowerCase: {'static': False, 'types': ['String']}\n",
      "\tstart: {'static': False, 'types': ['int']}\n",
      "\tremaining: {'static': False, 'types': ['String']}\n",
      "\tremainingLowerCase: {'static': False, 'types': ['String']}\n",
      "\tresult: {'static': False, 'types': ['List', 'Suggestion']}\n",
      "IntegerSuggestion:\n",
      "\tvalue: {'static': False, 'types': ['int']}\n",
      "Suggestion:\n",
      "\trange: {'static': False, 'types': ['StringRange']}\n",
      "\ttext: {'static': False, 'types': ['String']}\n",
      "\ttooltip: {'static': False, 'types': ['Message']}\n",
      "BuiltInExceptions:\n",
      "\tDOUBLE_TOO_SMALL: {'static': True, 'types': ['Dynamic2CommandExceptionType']}\n",
      "\tDOUBLE_TOO_BIG: {'static': True, 'types': ['Dynamic2CommandExceptionType']}\n",
      "\tFLOAT_TOO_SMALL: {'static': True, 'types': ['Dynamic2CommandExceptionType']}\n",
      "\tFLOAT_TOO_BIG: {'static': True, 'types': ['Dynamic2CommandExceptionType']}\n",
      "\tINTEGER_TOO_SMALL: {'static': True, 'types': ['Dynamic2CommandExceptionType']}\n",
      "\tINTEGER_TOO_BIG: {'static': True, 'types': ['Dynamic2CommandExceptionType']}\n",
      "\tLONG_TOO_SMALL: {'static': True, 'types': ['Dynamic2CommandExceptionType']}\n",
      "\tLONG_TOO_BIG: {'static': True, 'types': ['Dynamic2CommandExceptionType']}\n",
      "\tLITERAL_INCORRECT: {'static': True, 'types': ['DynamicCommandExceptionType']}\n",
      "\tREADER_EXPECTED_START_OF_QUOTE: {'static': True, 'types': ['SimpleCommandExceptionType']}\n",
      "\tREADER_EXPECTED_END_OF_QUOTE: {'static': True, 'types': ['SimpleCommandExceptionType']}\n",
      "\tREADER_INVALID_ESCAPE: {'static': True, 'types': ['DynamicCommandExceptionType']}\n",
      "\tREADER_INVALID_BOOL: {'static': True, 'types': ['DynamicCommandExceptionType']}\n",
      "\tREADER_INVALID_INT: {'static': True, 'types': ['DynamicCommandExceptionType']}\n",
      "\tREADER_EXPECTED_INT: {'static': True, 'types': ['SimpleCommandExceptionType']}\n",
      "\tREADER_INVALID_LONG: {'static': True, 'types': ['DynamicCommandExceptionType']}\n",
      "\tREADER_EXPECTED_LONG: {'static': True, 'types': ['SimpleCommandExceptionType']}\n",
      "\tREADER_INVALID_DOUBLE: {'static': True, 'types': ['DynamicCommandExceptionType']}\n",
      "\tREADER_EXPECTED_DOUBLE: {'static': True, 'types': ['SimpleCommandExceptionType']}\n",
      "\tREADER_INVALID_FLOAT: {'static': True, 'types': ['DynamicCommandExceptionType']}\n",
      "\tREADER_EXPECTED_FLOAT: {'static': True, 'types': ['SimpleCommandExceptionType']}\n",
      "\tREADER_EXPECTED_BOOL: {'static': True, 'types': ['SimpleCommandExceptionType']}\n",
      "\tREADER_EXPECTED_SYMBOL: {'static': True, 'types': ['DynamicCommandExceptionType']}\n",
      "\tDISPATCHER_UNKNOWN_COMMAND: {'static': True, 'types': ['SimpleCommandExceptionType']}\n",
      "\tDISPATCHER_UNKNOWN_ARGUMENT: {'static': True, 'types': ['SimpleCommandExceptionType']}\n",
      "\tDISPATCHER_EXPECTED_ARGUMENT_SEPARATOR: {'static': True, 'types': ['SimpleCommandExceptionType']}\n",
      "\tDISPATCHER_PARSE_EXCEPTION: {'static': True, 'types': ['DynamicCommandExceptionType']}\n",
      "CommandSyntaxException:\n",
      "\tCONTEXT_AMOUNT: {'static': True, 'types': ['int']}\n",
      "\tENABLE_COMMAND_STACK_TRACES: {'static': True, 'types': ['boolean']}\n",
      "\tBUILT_IN_EXCEPTIONS: {'static': True, 'types': ['BuiltInExceptionProvider']}\n",
      "\ttype: {'static': False, 'types': ['CommandExceptionType']}\n",
      "\tmessage: {'static': False, 'types': ['Message']}\n",
      "\tinput: {'static': False, 'types': ['String']}\n",
      "\tcursor: {'static': False, 'types': ['int']}\n",
      "DynamicCommandExceptionType:\n",
      "\tfunction: {'static': False, 'types': ['Function', 'Object', 'Message']}\n",
      "Dynamic4CommandExceptionType:\n",
      "\tfunction: {'static': False, 'types': ['Function']}\n",
      "Dynamic2CommandExceptionType:\n",
      "\tfunction: {'static': False, 'types': ['Function']}\n",
      "SimpleCommandExceptionType:\n",
      "\tmessage: {'static': False, 'types': ['Message']}\n",
      "DynamicNCommandExceptionType:\n",
      "\tfunction: {'static': False, 'types': ['Function']}\n",
      "Dynamic3CommandExceptionType:\n",
      "\tfunction: {'static': False, 'types': ['Function']}\n",
      "RequiredArgumentBuilder:\n",
      "\tname: {'static': False, 'types': ['String']}\n",
      "\ttype: {'static': False, 'types': ['ArgumentType', 'T']}\n",
      "\tsuggestionsProvider: {'static': False, 'types': ['SuggestionProvider', 'S']}\n",
      "LiteralArgumentBuilder:\n",
      "\tliteral: {'static': False, 'types': ['String']}\n",
      "ArgumentBuilder:\n",
      "\targuments: {'static': False, 'types': ['RootCommandNode', 'S']}\n",
      "\tcommand: {'static': False, 'types': ['Command', 'S']}\n",
      "\trequirement: {'static': False, 'types': ['Predicate', 'S']}\n",
      "\ttarget: {'static': False, 'types': ['CommandNode', 'S']}\n",
      "\tmodifier: {'static': False, 'types': ['RedirectModifier', 'S']}\n",
      "\tforks: {'static': False, 'types': ['boolean']}\n",
      "BoolArgumentType:\n",
      "\tEXAMPLES: {'static': True, 'types': ['Collection', 'String']}\n",
      "LongArgumentType:\n",
      "\tEXAMPLES: {'static': True, 'types': ['Collection', 'String']}\n",
      "\tminimum: {'static': False, 'types': ['long']}\n",
      "\tmaximum: {'static': False, 'types': ['long']}\n",
      "StringArgumentType:\n",
      "\ttype: {'static': False, 'types': ['StringType']}\n",
      "IntegerArgumentType:\n",
      "\tEXAMPLES: {'static': True, 'types': ['Collection', 'String']}\n",
      "\tminimum: {'static': False, 'types': ['int']}\n",
      "\tmaximum: {'static': False, 'types': ['int']}\n",
      "FloatArgumentType:\n",
      "\tEXAMPLES: {'static': True, 'types': ['Collection', 'String']}\n",
      "\tminimum: {'static': False, 'types': ['float']}\n",
      "\tmaximum: {'static': False, 'types': ['float']}\n",
      "DoubleArgumentType:\n",
      "\tEXAMPLES: {'static': True, 'types': ['Collection', 'String']}\n",
      "\tminimum: {'static': False, 'types': ['double']}\n",
      "\tmaximum: {'static': False, 'types': ['double']}\n"
     ]
    }
   ],
   "source": [
    "for cname, props in classes.items():\n",
    "    fields = props[\"fields\"]\n",
    "    print(f\"{cname}:\")\n",
    "    for f in fields:\n",
    "        print(f\"\\t{f}: {fields[f]}\")"
   ]
  },
  {
   "cell_type": "markdown",
   "id": "a28c9287",
   "metadata": {},
   "source": [
    "#### Find aggregation between classes\n",
    "\n"
   ]
  },
  {
   "cell_type": "code",
   "execution_count": 45,
   "id": "152f149e",
   "metadata": {},
   "outputs": [],
   "source": [
    "# Iterate member variable information (type information)"
   ]
  },
  {
   "cell_type": "markdown",
   "id": "5ea5fe84",
   "metadata": {},
   "source": [
    "## Dependencies\n",
    "\n",
    "### Methods\n",
    "\n",
    "Collect type information from method bodies for dependency relationships."
   ]
  },
  {
   "cell_type": "markdown",
   "id": "edd25c11",
   "metadata": {},
   "source": [
    "#### Constructors"
   ]
  },
  {
   "cell_type": "code",
   "execution_count": 46,
   "id": "5bade6b3",
   "metadata": {},
   "outputs": [],
   "source": [
    "for cname, props in classes.items():\n",
    "#     print(f\"{cname}:\")\n",
    "    consts = {}\n",
    "    for const in props[\"ast_node\"].constructors:\n",
    "        typeformal = []\n",
    "        for param in const.parameters:\n",
    "            typeformal.append(param.type.name)\n",
    "        ckey = \"+\".join(typeformal) if len(typeformal) > 0 else \"void\"\n",
    "        consts[ckey] = const\n",
    "#         print(\"\\tconstructor:\", ckey)\n",
    "    classes[cname][\"constructors\"] = consts\n",
    "\n"
   ]
  },
  {
   "cell_type": "markdown",
   "id": "855d94eb",
   "metadata": {},
   "source": [
    "#### Other member methods"
   ]
  },
  {
   "cell_type": "code",
   "execution_count": 47,
   "id": "b83b72e1",
   "metadata": {},
   "outputs": [],
   "source": [
    "for cname, props in classes.items():\n",
    "#     print(f\"{cname}:\")\n",
    "    methods = {}\n",
    "    for method in props[\"ast_node\"].methods:\n",
    "        typeformal = []\n",
    "        for param in method.parameters:\n",
    "            typeformal.append(param.type.name)\n",
    "        typekey = \"+\".join(typeformal) if len(typeformal) > 0 else \"void\"\n",
    "        ckey = f\"{method.name}({typekey})\"\n",
    "        methods[ckey] = method\n",
    "#         print(\"\\tmethod:\", ckey)\n",
    "    classes[cname][\"methods\"] = methods"
   ]
  },
  {
   "cell_type": "markdown",
   "id": "aa5bd19a",
   "metadata": {},
   "source": [
    "#### Return\n",
    "\n",
    "Collect the type information of the return type of a method."
   ]
  },
  {
   "cell_type": "code",
   "execution_count": 48,
   "id": "47a12f86",
   "metadata": {},
   "outputs": [],
   "source": [
    "def collect_type_strings(node):\n",
    "    type_strings = []\n",
    "    for path, node in javalang.ast.walk_tree(node):\n",
    "        if isinstance(node, javalang.tree.BasicType):\n",
    "            type_strings.append(node.name)\n",
    "        if isinstance(node, javalang.tree.ReferenceType):\n",
    "            type_strings.append(node.name)\n",
    "    return set(type_strings)"
   ]
  },
  {
   "cell_type": "code",
   "execution_count": 49,
   "id": "4a53ac86",
   "metadata": {},
   "outputs": [],
   "source": [
    "for cname, props in classes.items():\n",
    "#     print(f\"{cname}:\")\n",
    "    dependent_types = set()\n",
    "    for mkey, node in props[\"methods\"].items():\n",
    "        ret_type_set = collect_type_strings(node.return_type) if node.return_type is not None else set()\n",
    "        dependent_types = dependent_types.union(ret_type_set)\n",
    "    classes[cname][\"dependency\"] = dependent_types\n",
    "#     print(f\"\\tdependency: {dependent_types}\")"
   ]
  },
  {
   "cell_type": "markdown",
   "id": "cfd72843",
   "metadata": {},
   "source": [
    "#### Formal parameters"
   ]
  },
  {
   "cell_type": "code",
   "execution_count": 50,
   "id": "74f0e1e3",
   "metadata": {},
   "outputs": [
    {
     "name": "stdout",
     "output_type": "stream",
     "text": [
      "StringReader:\n",
      "\tdependency: {'boolean', 'char', 'StringReader', 'float', 'double', 'String', 'int', 'long'}\n",
      "ParseResults:\n",
      "\tdependency: {'ImmutableStringReader', 'Map', 'CommandContextBuilder', 'S', 'CommandNode', 'CommandSyntaxException'}\n",
      "LiteralMessage:\n",
      "\tdependency: {'String'}\n",
      "CommandDispatcher:\n",
      "\tdependency: {'AmbiguityConsumer', 'boolean', 'RootCommandNode', 'ArrayList', 'StringReader', 'ParseResults', 'Collection', 'List', 'String', 'S', 'Suggestions', 'LiteralArgumentBuilder', 'ResultConsumer', 'CommandNode', 'Map', 'CommandContextBuilder', 'CompletableFuture', 'LiteralCommandNode', 'int'}\n",
      "ArgumentCommandNode:\n",
      "\tdependency: {'boolean', 'Object', 'ArgumentType', 'SuggestionsBuilder', 'StringReader', 'Collection', 'SuggestionProvider', 'String', 'S', 'RedirectModifier', 'T', 'Predicate', 'Suggestions', 'CommandContext', 'RequiredArgumentBuilder', 'Command', 'CommandNode', 'CommandContextBuilder', 'CompletableFuture', 'int'}\n",
      "LiteralCommandNode:\n",
      "\tdependency: {'boolean', 'Object', 'SuggestionsBuilder', 'StringReader', 'Collection', 'String', 'S', 'RedirectModifier', 'Predicate', 'Suggestions', 'CommandContext', 'LiteralArgumentBuilder', 'Command', 'CommandNode', 'CommandContextBuilder', 'CompletableFuture', 'int'}\n",
      "CommandNode:\n",
      "\tdependency: {'AmbiguityConsumer', 'boolean', 'Object', 'SuggestionsBuilder', 'StringReader', 'Collection', 'ArgumentBuilder', 'String', 'S', 'RedirectModifier', 'Predicate', 'Suggestions', 'CommandContext', 'Command', 'CommandNode', 'CommandContextBuilder', 'CompletableFuture', 'int'}\n",
      "RootCommandNode:\n",
      "\tdependency: {'boolean', 'Suggestions', 'CommandContext', 'Object', 'SuggestionsBuilder', 'StringReader', 'Collection', 'S', 'ArgumentBuilder', 'CommandContextBuilder', 'String', 'CompletableFuture'}\n",
      "ParsedArgument:\n",
      "\tdependency: {'T', 'boolean', 'Object', 'StringRange', 'int'}\n",
      "SuggestionContext:\n",
      "\tdependency: {'S', 'int', 'CommandNode'}\n",
      "CommandContextBuilder:\n",
      "\tdependency: {'CommandContext', 'Command', 'CommandNode', 'CommandDispatcher', 'SuggestionContext', 'List', 'ParsedCommandNode', 'Map', 'StringRange', 'CommandContextBuilder', 'ParsedArgument', 'String', 'S', 'int'}\n",
      "ContextChain:\n",
      "\tdependency: {'Optional', 'boolean', 'CommandContext', 'ResultConsumer', 'ContextChain', 'Collection', 'List', 'S', 'int', 'Stage'}\n",
      "StringRange:\n",
      "\tdependency: {'boolean', 'ImmutableStringReader', 'Object', 'StringRange', 'String', 'int'}\n",
      "ParsedCommandNode:\n",
      "\tdependency: {'boolean', 'int', 'StringRange', 'Object', 'String', 'S', 'CommandNode'}\n",
      "CommandContext:\n",
      "\tdependency: {'boolean', 'Class', 'Object', 'CommandContext', 'Command', 'V', 'CommandNode', 'ParsedArgument', 'ParsedCommandNode', 'Map', 'StringRange', 'List', 'String', 'S', 'int', 'RedirectModifier'}\n",
      "Suggestions:\n",
      "\tdependency: {'boolean', 'Suggestions', 'Object', 'Suggestion', 'Collection', 'StringRange', 'List', 'String', 'CompletableFuture', 'int'}\n",
      "SuggestionsBuilder:\n",
      "\tdependency: {'Message', 'Suggestions', 'SuggestionsBuilder', 'String', 'CompletableFuture', 'int'}\n",
      "IntegerSuggestion:\n",
      "\tdependency: {'boolean', 'Message', 'Object', 'StringRange', 'Suggestion', 'String', 'int'}\n",
      "Suggestion:\n",
      "\tdependency: {'Message', 'boolean', 'Object', 'StringRange', 'Suggestion', 'String', 'int'}\n",
      "BuiltInExceptions:\n",
      "\tdependency: {'SimpleCommandExceptionType', 'Dynamic2CommandExceptionType', 'DynamicCommandExceptionType'}\n",
      "CommandSyntaxException:\n",
      "\tdependency: {'Message', 'String', 'CommandExceptionType', 'int'}\n",
      "DynamicCommandExceptionType:\n",
      "\tdependency: {'Message', 'ImmutableStringReader', 'Object', 'Function', 'CommandSyntaxException'}\n",
      "Dynamic4CommandExceptionType:\n",
      "\tdependency: {'ImmutableStringReader', 'Object', 'Function', 'CommandSyntaxException'}\n",
      "Dynamic2CommandExceptionType:\n",
      "\tdependency: {'ImmutableStringReader', 'Object', 'Function', 'CommandSyntaxException'}\n",
      "SimpleCommandExceptionType:\n",
      "\tdependency: {'ImmutableStringReader', 'String', 'Message', 'CommandSyntaxException'}\n",
      "DynamicNCommandExceptionType:\n",
      "\tdependency: {'ImmutableStringReader', 'Object', 'Function', 'CommandSyntaxException'}\n",
      "Dynamic3CommandExceptionType:\n",
      "\tdependency: {'ImmutableStringReader', 'Object', 'Function', 'CommandSyntaxException'}\n",
      "RequiredArgumentBuilder:\n",
      "\tdependency: {'T', 'ArgumentCommandNode', 'ArgumentType', 'RequiredArgumentBuilder', 'SuggestionProvider', 'String', 'S'}\n",
      "LiteralArgumentBuilder:\n",
      "\tdependency: {'LiteralArgumentBuilder', 'String', 'S', 'LiteralCommandNode'}\n",
      "ArgumentBuilder:\n",
      "\tdependency: {'T', 'Predicate', 'boolean', 'Command', 'CommandNode', 'Collection', 'ArgumentBuilder', 'S', 'SingleRedirectModifier', 'RedirectModifier'}\n",
      "BoolArgumentType:\n",
      "\tdependency: {'boolean', 'Suggestions', 'BoolArgumentType', 'CommandContext', 'Boolean', 'StringReader', 'SuggestionsBuilder', 'Collection', 'S', 'String', 'CompletableFuture'}\n",
      "LongArgumentType:\n",
      "\tdependency: {'boolean', 'LongArgumentType', 'Object', 'CommandContext', 'Long', 'StringReader', 'Collection', 'String', 'int', 'long'}\n",
      "StringArgumentType:\n",
      "\tdependency: {'CommandContext', 'Collection', 'StringArgumentType', 'StringReader', 'String', 'StringType'}\n",
      "IntegerArgumentType:\n",
      "\tdependency: {'Integer', 'boolean', 'Object', 'CommandContext', 'StringReader', 'Collection', 'IntegerArgumentType', 'String', 'int'}\n",
      "FloatArgumentType:\n",
      "\tdependency: {'boolean', 'Object', 'CommandContext', 'StringReader', 'Collection', 'float', 'Float', 'FloatArgumentType', 'String', 'int'}\n",
      "DoubleArgumentType:\n",
      "\tdependency: {'boolean', 'Object', 'CommandContext', 'StringReader', 'Collection', 'Double', 'DoubleArgumentType', 'double', 'String', 'int'}\n"
     ]
    }
   ],
   "source": [
    "for cname, props in classes.items():\n",
    "    print(f\"{cname}:\")\n",
    "# [\"constructors\"]\n",
    "    props[\"dependency\"]\n",
    "    for mkey, node in props[\"constructors\"].items():\n",
    "        for param in node.parameters:\n",
    "            props[\"dependency\"] = props[\"dependency\"].union(collect_type_strings(param))\n",
    "    for mkey, node in props[\"methods\"].items():\n",
    "        for param in node.parameters:\n",
    "            props[\"dependency\"] = props[\"dependency\"].union(collect_type_strings(param))\n",
    "    d_type = props[\"dependency\"]\n",
    "    print(f\"\\tdependency: {d_type}\")"
   ]
  },
  {
   "cell_type": "markdown",
   "id": "4af17abf",
   "metadata": {},
   "source": [
    "#### Statements in method bodies"
   ]
  },
  {
   "cell_type": "code",
   "execution_count": 79,
   "id": "085bd60d",
   "metadata": {},
   "outputs": [
    {
     "name": "stdout",
     "output_type": "stream",
     "text": [
      "StringReader:\n",
      "\t{'CommandSyntaxException'}\n",
      "ParseResults:\n",
      "\t{'StringReader'}\n",
      "LiteralMessage:\n",
      "\tset()\n",
      "CommandDispatcher:\n",
      "\t{'Suggestions', 'RootCommandNode', 'CommandContext', 'SuggestionsBuilder', 'StringReader', 'ParseResults', 'ContextChain', 'CommandNode', 'SuggestionContext', 'CommandSyntaxException', 'CommandContextBuilder', 'LiteralCommandNode'}\n",
      "ArgumentCommandNode:\n",
      "\t{'ArgumentCommandNode', 'RequiredArgumentBuilder', 'StringReader', 'ParsedArgument', 'CommandSyntaxException'}\n",
      "LiteralCommandNode:\n",
      "\t{'Suggestions', 'StringRange', 'LiteralArgumentBuilder', 'StringReader', 'LiteralCommandNode', 'CommandSyntaxException'}\n",
      "CommandNode:\n",
      "\t{'ArgumentCommandNode', 'RootCommandNode', 'LiteralCommandNode', 'CommandNode', 'CommandSyntaxException'}\n",
      "RootCommandNode:\n",
      "\t{'Suggestions', 'RootCommandNode', 'CommandSyntaxException'}\n",
      "ParsedArgument:\n",
      "\t{'ParsedArgument'}\n",
      "SuggestionContext:\n",
      "\tset()\n",
      "CommandContextBuilder:\n",
      "\t{'ParsedCommandNode', 'CommandContext', 'StringRange', 'CommandContextBuilder', 'CommandNode', 'SuggestionContext'}\n",
      "ContextChain:\n",
      "\t{'ContextChain', 'CommandContext', 'CommandSyntaxException'}\n",
      "StringRange:\n",
      "\t{'StringRange'}\n",
      "ParsedCommandNode:\n",
      "\t{'ParsedCommandNode'}\n",
      "CommandContext:\n",
      "\t{'ParsedArgument', 'CommandContext'}\n",
      "Suggestions:\n",
      "\t{'Suggestions', 'StringRange', 'Suggestion'}\n",
      "SuggestionsBuilder:\n",
      "\t{'Suggestion', 'Suggestions', 'StringRange', 'IntegerSuggestion', 'SuggestionsBuilder'}\n",
      "IntegerSuggestion:\n",
      "\t{'IntegerSuggestion'}\n",
      "Suggestion:\n",
      "\t{'Suggestion'}\n",
      "BuiltInExceptions:\n",
      "\tset()\n",
      "CommandSyntaxException:\n",
      "\tset()\n",
      "DynamicCommandExceptionType:\n",
      "\t{'CommandSyntaxException'}\n",
      "Dynamic4CommandExceptionType:\n",
      "\t{'CommandSyntaxException'}\n",
      "Dynamic2CommandExceptionType:\n",
      "\t{'CommandSyntaxException'}\n",
      "SimpleCommandExceptionType:\n",
      "\t{'CommandSyntaxException'}\n",
      "DynamicNCommandExceptionType:\n",
      "\t{'CommandSyntaxException'}\n",
      "Dynamic3CommandExceptionType:\n",
      "\t{'CommandSyntaxException'}\n",
      "RequiredArgumentBuilder:\n",
      "\t{'ArgumentCommandNode', 'CommandNode', 'RequiredArgumentBuilder'}\n",
      "LiteralArgumentBuilder:\n",
      "\t{'LiteralCommandNode', 'CommandNode', 'LiteralArgumentBuilder'}\n",
      "ArgumentBuilder:\n",
      "\tset()\n",
      "BoolArgumentType:\n",
      "\t{'BoolArgumentType', 'CommandSyntaxException'}\n",
      "LongArgumentType:\n",
      "\t{'LongArgumentType', 'CommandSyntaxException'}\n",
      "StringArgumentType:\n",
      "\t{'StringReader', 'StringArgumentType', 'CommandSyntaxException'}\n",
      "IntegerArgumentType:\n",
      "\t{'IntegerArgumentType', 'CommandSyntaxException'}\n",
      "FloatArgumentType:\n",
      "\t{'FloatArgumentType', 'CommandSyntaxException'}\n",
      "DoubleArgumentType:\n",
      "\t{'DoubleArgumentType', 'CommandSyntaxException'}\n"
     ]
    }
   ],
   "source": [
    "for cname, props in classes.items():\n",
    "    print(f\"{cname}:\")\n",
    "    ref_types = []\n",
    "    for mkey, node in props[\"constructors\"].items():\n",
    "        if node.throws is not None:\n",
    "            ref_types.extend(node.throws)\n",
    "        if node.body is not None:\n",
    "            for path, node in javalang.ast.walk_tree(node.body):\n",
    "                if isinstance(node, javalang.tree.ReferenceType):\n",
    "                    ref_types.append(node.name)\n",
    "    for mkey, node in props[\"methods\"].items():\n",
    "            if node.throws is not None:\n",
    "                ref_types.extend(node.throws)\n",
    "#         if cname == \"StringReader\":\n",
    "#             print(node)\n",
    "            if node.body is not None:\n",
    "#                 if \"readInt\" in mkey:\n",
    "#                     print(node.body)\n",
    "                for path, node in javalang.ast.walk_tree(node.body):\n",
    "                    if isinstance(node, javalang.tree.ReferenceType):\n",
    "                        ref_types.append(node.name)\n",
    "                    if isinstance(node, javalang.tree.Primary):\n",
    "                        if node is not None and node.qualifier is not None:\n",
    "                            ref_types.extend(node.qualifier.split(\".\"))\n",
    "                    if isinstance(node, javalang.tree.CatchClauseParameter):\n",
    "                        ref_types.append(*node.types)\n",
    "    types_cleanedup = set(ref_types).intersection(set(classes.keys()))\n",
    "    print(f\"\\t{set(types_cleanedup)}\")"
   ]
  },
  {
   "cell_type": "markdown",
   "id": "fb1a49f0",
   "metadata": {},
   "source": [
    "#### Throws"
   ]
  },
  {
   "cell_type": "code",
   "execution_count": null,
   "id": "7a0a5ecf",
   "metadata": {},
   "outputs": [],
   "source": []
  }
 ],
 "metadata": {
  "kernelspec": {
   "display_name": "Python 3 (ipykernel)",
   "language": "python",
   "name": "python3"
  },
  "language_info": {
   "codemirror_mode": {
    "name": "ipython",
    "version": 3
   },
   "file_extension": ".py",
   "mimetype": "text/x-python",
   "name": "python",
   "nbconvert_exporter": "python",
   "pygments_lexer": "ipython3",
   "version": "3.11.6"
  }
 },
 "nbformat": 4,
 "nbformat_minor": 5
}
