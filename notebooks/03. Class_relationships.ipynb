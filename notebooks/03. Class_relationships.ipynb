{
 "cells": [
  {
   "cell_type": "markdown",
   "id": "3c81e7d3-4c1d-49ea-a663-4a5b337e9fc5",
   "metadata": {},
   "source": [
    "# Class level relationships"
   ]
  },
  {
   "cell_type": "markdown",
   "id": "0049271f-cb1d-465b-9bde-c5378c465be3",
   "metadata": {},
   "source": [
    "## Generalization"
   ]
  },
  {
   "cell_type": "markdown",
   "id": "e00bc075-c439-4baa-bf44-852fd7b9b159",
   "metadata": {},
   "source": [
    "We need a target project rather than a single file."
   ]
  },
  {
   "cell_type": "code",
   "execution_count": null,
   "id": "026c7a75-ce97-416c-8c1e-4b7b7dbf5539",
   "metadata": {},
   "outputs": [],
   "source": [
    "# Clone a target project. This time, we try Mojang/brigadier, a MineCraft program.\n",
    "!git clone git@github.com:Mojang/brigadier.git"
   ]
  },
  {
   "cell_type": "code",
   "execution_count": null,
   "id": "987887f2-8e30-46b3-aae6-5e3545569dff",
   "metadata": {},
   "outputs": [],
   "source": [
    "# First, we need to read many java files.\n",
    "# from os.path import isfile, join\n",
    "import os\n",
    "\n",
    "path = \"./brigadier/src/main/java/**/*.java\"\n",
    "\n",
    "from glob import glob\n",
    "\n",
    "\n",
    "for filename in glob(path, recursive=True):\n",
    "    print(filename)"
   ]
  },
  {
   "cell_type": "code",
   "execution_count": 3,
   "id": "870dcdb6-7c6f-468d-b097-6dc5c8369340",
   "metadata": {},
   "outputs": [
    {
     "data": {
      "text/plain": [
       "47"
      ]
     },
     "execution_count": 3,
     "metadata": {},
     "output_type": "execute_result"
    }
   ],
   "source": [
    "javafiles = list(glob(path, recursive=True))\n",
    "len(javafiles)"
   ]
  },
  {
   "cell_type": "code",
   "execution_count": 4,
   "id": "e898dfda-bc30-4c5e-8e6f-6a00c5380905",
   "metadata": {},
   "outputs": [],
   "source": [
    "## Parser function\n",
    "import javalang\n",
    "\n",
    "def getAST(path: str):\n",
    "    with open(path, \"r\") as f:\n",
    "        code = f.read()\n",
    "    return javalang.parse.parse(code)"
   ]
  },
  {
   "cell_type": "markdown",
   "id": "ec7fe60b-efde-4da8-b695-4069fb748697",
   "metadata": {},
   "source": [
    "## Get AST one-by-one"
   ]
  },
  {
   "cell_type": "code",
   "execution_count": 24,
   "id": "0451a21c",
   "metadata": {},
   "outputs": [],
   "source": [
    "# print(javafiles[0])\n",
    "myast = getAST(javafiles[14])\n",
    "# myast"
   ]
  },
  {
   "cell_type": "markdown",
   "id": "1d0f25de-450f-40f8-9da0-47a453b8912f",
   "metadata": {},
   "source": [
    "## Detect `extends` and `implements`"
   ]
  },
  {
   "cell_type": "code",
   "execution_count": 37,
   "id": "67e6a7f9",
   "metadata": {},
   "outputs": [],
   "source": [
    "gen_real_dict = {}\n",
    "\n",
    "for javafile in javafiles:\n",
    "    myast = getAST(javafile)\n",
    "    for path, node in javalang.ast.walk_tree(myast):\n",
    "        if isinstance(node, javalang.tree.ClassDeclaration):\n",
    "            gen_real_dict[node.name] = { \"extends\": node.extends.name if node.extends is not None else None,\n",
    "                                         \"implements\": list([atype.name for atype in node.implements]) if node.implements is not None else None,\n",
    "                                         \"type\": \"class\"}\n",
    "#             print(\"=====\")\n",
    "#             print(\"Class:\", node.name)\n",
    "#             print(\"Extends:\", node.extends)\n",
    "#             print(\"Implements:\", node.implements)\n",
    "        elif isinstance(node, javalang.tree.InterfaceDeclaration):\n",
    "            gen_real_dict[node.name] = { \"extends\": node.extends.name if node.extends is not None else None,\n",
    "                                         \"type\": \"interface\"}\n",
    "#             print(\"=====\")\n",
    "#             print(\"Interface:\", node.name)\n",
    "#             print(\"Extends:\", node.extends)\n",
    "        elif isinstance(node, javalang.tree.AnnotationDeclaration):\n",
    "            gen_real_dict[node.name] = {}\n",
    "#             print(\"=====\")\n",
    "#             print(\"Annotation:\", node.name)\n",
    "        elif isinstance(node, javalang.tree.EnumDeclaration):\n",
    "            gen_real_dict[node.name] = { \"implements\": list([atype.name for atype in node.implements]) if node.implements is not None else None,\n",
    "                                         \"type\": \"enum\"}\n",
    "#             print(\"=====\")\n",
    "#             print(\"Enum:\", node.name)\n",
    "#             print(\"Implements:\", node.implements)    "
   ]
  },
  {
   "cell_type": "code",
   "execution_count": 45,
   "id": "2dcc1543",
   "metadata": {},
   "outputs": [
    {
     "name": "stdout",
     "output_type": "stream",
     "text": [
      "SingleRedirectModifier is dangling\n",
      "ResultConsumer is dangling\n",
      "Command is dangling\n",
      "ParseResults is dangling\n",
      "RedirectModifier is dangling\n",
      "AmbiguityConsumer is dangling\n",
      "CommandDispatcher is dangling\n",
      "ParsedArgument is dangling\n",
      "SuggestionContext is dangling\n",
      "CommandContextBuilder is dangling\n",
      "ContextChain is dangling\n",
      "Stage is dangling\n",
      "StringRange is dangling\n",
      "ParsedCommandNode is dangling\n",
      "CommandContext is dangling\n",
      "SuggestionProvider is dangling\n",
      "Suggestions is dangling\n",
      "SuggestionsBuilder is dangling\n",
      "Function is dangling\n",
      "StringType is dangling\n"
     ]
    }
   ],
   "source": [
    "# gen_real_dict\n",
    "for key, value in gen_real_dict.items():\n",
    "    if value[\"type\"] == \"class\":\n",
    "        if value[\"extends\"] is not None:\n",
    "            gen_real_dict[key][\"dangling\"] = False\n",
    "            if value[\"extends\"] in gen_real_dict:\n",
    "                gen_real_dict[value[\"extends\"]][\"dangling\"] = False\n",
    "        if value[\"implements\"] is not None:\n",
    "            for aiterface in value[\"implements\"]:\n",
    "                gen_real_dict[key][\"dangling\"] = False\n",
    "                if aiterface in gen_real_dict:\n",
    "                    gen_real_dict[aiterface][\"dangling\"] = False\n",
    "    elif value[\"type\"] == \"interface\":\n",
    "        if value[\"extends\"] is not None:\n",
    "            gen_real_dict[key][\"dangling\"] = False\n",
    "            if value[\"extends\"] in gen_real_dict:\n",
    "                gen_real_dict[value[\"extends\"]][\"dangling\"] = False\n",
    "#     if value[\"implements\"] is not None and len(value[\"implements\"]) > 1:\n",
    "#         print(f\"{key}:\", value[\"implements\"])\n",
    "\n",
    "for key, value in gen_real_dict.items():\n",
    "    if \"dangling\" not in value:\n",
    "        print(f\"{key} is dangling\")"
   ]
  },
  {
   "cell_type": "markdown",
   "id": "f85d3c3c-0ba3-4725-a1c1-62e648f7622e",
   "metadata": {},
   "source": [
    "## Store generalization relationships in a data structure"
   ]
  },
  {
   "cell_type": "code",
   "execution_count": 36,
   "id": "6aea2b99",
   "metadata": {},
   "outputs": [
    {
     "name": "stdout",
     "output_type": "stream",
     "text": [
      "ArgumentCommandNode -> CommandNode\n",
      "LiteralCommandNode -> CommandNode\n",
      "RootCommandNode -> CommandNode\n",
      "IntegerSuggestion -> Suggestion\n",
      "CommandSyntaxException -> Exception\n",
      "RequiredArgumentBuilder -> ArgumentBuilder\n",
      "LiteralArgumentBuilder -> ArgumentBuilder\n"
     ]
    }
   ],
   "source": [
    "for key, value in gen_real_dict.items():\n",
    "    if value[\"extends\"] is not None:\n",
    "        parent = value[\"extends\"]\n",
    "        print(f\"{key} -> {parent}\")"
   ]
  },
  {
   "cell_type": "markdown",
   "id": "55d085f8-04fd-4fd9-8291-90916105134f",
   "metadata": {},
   "source": [
    "# Association"
   ]
  },
  {
   "cell_type": "markdown",
   "id": "27791f55-3736-4047-a010-e23ea49bb98f",
   "metadata": {},
   "source": [
    "## Composition"
   ]
  },
  {
   "cell_type": "markdown",
   "id": "f7ad731f-1a1e-4d8c-a0f5-9799b86d975b",
   "metadata": {},
   "source": [
    "## Aggregation"
   ]
  },
  {
   "cell_type": "code",
   "execution_count": null,
   "id": "105ef9d0-41b5-41f6-b88f-f50d3c5bd608",
   "metadata": {},
   "outputs": [],
   "source": []
  }
 ],
 "metadata": {
  "kernelspec": {
   "display_name": "Python 3 (ipykernel)",
   "language": "python",
   "name": "python3"
  },
  "language_info": {
   "codemirror_mode": {
    "name": "ipython",
    "version": 3
   },
   "file_extension": ".py",
   "mimetype": "text/x-python",
   "name": "python",
   "nbconvert_exporter": "python",
   "pygments_lexer": "ipython3",
   "version": "3.11.6"
  }
 },
 "nbformat": 4,
 "nbformat_minor": 5
}
