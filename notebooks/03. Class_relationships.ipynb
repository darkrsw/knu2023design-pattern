{
 "cells": [
  {
   "cell_type": "markdown",
   "id": "3c81e7d3-4c1d-49ea-a663-4a5b337e9fc5",
   "metadata": {},
   "source": [
    "# Class level relationships"
   ]
  },
  {
   "cell_type": "markdown",
   "id": "0049271f-cb1d-465b-9bde-c5378c465be3",
   "metadata": {},
   "source": [
    "## Generalization"
   ]
  },
  {
   "cell_type": "markdown",
   "id": "e00bc075-c439-4baa-bf44-852fd7b9b159",
   "metadata": {},
   "source": [
    "We need a target project rather than a single file."
   ]
  },
  {
   "cell_type": "code",
   "execution_count": null,
   "id": "026c7a75-ce97-416c-8c1e-4b7b7dbf5539",
   "metadata": {},
   "outputs": [],
   "source": [
    "# Clone a target project. This time, we try Mojang/brigadier, a MineCraft program.\n",
    "!git clone git@github.com:Mojang/brigadier.git"
   ]
  },
  {
   "cell_type": "code",
   "execution_count": null,
   "id": "987887f2-8e30-46b3-aae6-5e3545569dff",
   "metadata": {},
   "outputs": [],
   "source": [
    "# First, we need to read many java files.\n",
    "# from os.path import isfile, join\n",
    "import os\n",
    "\n",
    "path = \"./brigadier/src/main/java/**/*.java\"\n",
    "\n",
    "from glob import glob\n",
    "\n",
    "\n",
    "for filename in glob(path, recursive=True):\n",
    "#     print(filename)\n",
    "    pass"
   ]
  },
  {
   "cell_type": "code",
   "execution_count": null,
   "id": "870dcdb6-7c6f-468d-b097-6dc5c8369340",
   "metadata": {},
   "outputs": [],
   "source": [
    "javafiles = list(glob(path, recursive=True))\n",
    "len(javafiles)"
   ]
  },
  {
   "cell_type": "code",
   "execution_count": null,
   "id": "e898dfda-bc30-4c5e-8e6f-6a00c5380905",
   "metadata": {},
   "outputs": [],
   "source": [
    "## Parser function\n",
    "import javalang\n",
    "\n",
    "def getAST(path: str):\n",
    "    with open(path, \"r\") as f:\n",
    "        code = f.read()\n",
    "    return javalang.parse.parse(code)"
   ]
  },
  {
   "cell_type": "markdown",
   "id": "ec7fe60b-efde-4da8-b695-4069fb748697",
   "metadata": {},
   "source": [
    "## Get AST one-by-one"
   ]
  },
  {
   "cell_type": "code",
   "execution_count": null,
   "id": "0451a21c",
   "metadata": {},
   "outputs": [],
   "source": [
    "# print(javafiles[0])\n",
    "myast = getAST(javafiles[14])\n",
    "# myast"
   ]
  },
  {
   "cell_type": "markdown",
   "id": "1d0f25de-450f-40f8-9da0-47a453b8912f",
   "metadata": {},
   "source": [
    "## Detect `extends` and `implements`"
   ]
  },
  {
   "cell_type": "code",
   "execution_count": null,
   "id": "67e6a7f9",
   "metadata": {},
   "outputs": [],
   "source": [
    "gen_real_dict = {}\n",
    "\n",
    "for javafile in javafiles:\n",
    "    myast = getAST(javafile)\n",
    "    for path, node in javalang.ast.walk_tree(myast):\n",
    "        if isinstance(node, javalang.tree.ClassDeclaration):\n",
    "            gen_real_dict[node.name] = { \"extends\": node.extends.name if node.extends is not None else None,\n",
    "                                         \"implements\": list([atype.name for atype in node.implements]) if node.implements is not None else None,\n",
    "                                         \"type\": \"class\"}\n",
    "#             print(\"=====\")\n",
    "#             print(\"Class:\", node.name)\n",
    "#             print(\"Extends:\", node.extends)\n",
    "#             print(\"Implements:\", node.implements)\n",
    "        elif isinstance(node, javalang.tree.InterfaceDeclaration):\n",
    "            gen_real_dict[node.name] = { \"extends\": node.extends.name if node.extends is not None else None,\n",
    "                                         \"type\": \"interface\"}\n",
    "#             print(\"=====\")\n",
    "#             print(\"Interface:\", node.name)\n",
    "#             print(\"Extends:\", node.extends)\n",
    "        elif isinstance(node, javalang.tree.AnnotationDeclaration):\n",
    "            gen_real_dict[node.name] = {}\n",
    "#             print(\"=====\")\n",
    "#             print(\"Annotation:\", node.name)\n",
    "        elif isinstance(node, javalang.tree.EnumDeclaration):\n",
    "            gen_real_dict[node.name] = { \"implements\": list([atype.name for atype in node.implements]) if node.implements is not None else None,\n",
    "                                         \"type\": \"enum\"}\n",
    "#             print(\"=====\")\n",
    "#             print(\"Enum:\", node.name)\n",
    "#             print(\"Implements:\", node.implements)    "
   ]
  },
  {
   "cell_type": "code",
   "execution_count": null,
   "id": "2dcc1543",
   "metadata": {},
   "outputs": [],
   "source": [
    "# gen_real_dict\n",
    "for key, value in gen_real_dict.items():\n",
    "    if value[\"type\"] == \"class\":\n",
    "        if value[\"extends\"] is not None:\n",
    "            gen_real_dict[key][\"dangling\"] = False\n",
    "            if value[\"extends\"] in gen_real_dict:\n",
    "                gen_real_dict[value[\"extends\"]][\"dangling\"] = False\n",
    "        if value[\"implements\"] is not None:\n",
    "            for aiterface in value[\"implements\"]:\n",
    "                gen_real_dict[key][\"dangling\"] = False\n",
    "                if aiterface in gen_real_dict:\n",
    "                    gen_real_dict[aiterface][\"dangling\"] = False\n",
    "    elif value[\"type\"] == \"interface\":\n",
    "        if value[\"extends\"] is not None:\n",
    "            gen_real_dict[key][\"dangling\"] = False\n",
    "            if value[\"extends\"] in gen_real_dict:\n",
    "                gen_real_dict[value[\"extends\"]][\"dangling\"] = False\n",
    "#     if value[\"implements\"] is not None and len(value[\"implements\"]) > 1:\n",
    "#         print(f\"{key}:\", value[\"implements\"])\n",
    "\n",
    "for key, value in gen_real_dict.items():\n",
    "    if \"dangling\" not in value:\n",
    "        print(f\"{key} is dangling\")"
   ]
  },
  {
   "cell_type": "markdown",
   "id": "7d68682e",
   "metadata": {},
   "source": [
    "### Excercise: Identify dangling interfaces\n",
    "It should be useful if we can figure out interfaces, which are not implemented by any other classes or is not a parent interface of anohter interface."
   ]
  },
  {
   "cell_type": "code",
   "execution_count": null,
   "id": "d1ba9925",
   "metadata": {},
   "outputs": [],
   "source": [
    "gen_real_dict"
   ]
  },
  {
   "cell_type": "markdown",
   "id": "f85d3c3c-0ba3-4725-a1c1-62e648f7622e",
   "metadata": {},
   "source": [
    "## Store generalization relationships in a data structure"
   ]
  },
  {
   "cell_type": "code",
   "execution_count": null,
   "id": "6aea2b99",
   "metadata": {},
   "outputs": [],
   "source": [
    "for key, value in gen_real_dict.items():\n",
    "    if value[\"extends\"] is not None:\n",
    "        parent = value[\"extends\"]\n",
    "        print(f\"{key} -> {parent}\")"
   ]
  },
  {
   "cell_type": "markdown",
   "id": "03659c38",
   "metadata": {},
   "source": [
    "### Excercise: making inverse relationships of generalization\n",
    "Currently, we have `subclass -> parentclass`. We can computer `parentclass -> subclass`.\n",
    "\n",
    "In addition, we can create a forest of class hierarchy in a project by using the above information."
   ]
  },
  {
   "cell_type": "markdown",
   "id": "55d085f8-04fd-4fd9-8291-90916105134f",
   "metadata": {},
   "source": [
    "# Association"
   ]
  },
  {
   "cell_type": "markdown",
   "id": "27791f55-3736-4047-a010-e23ea49bb98f",
   "metadata": {},
   "source": [
    "## Composition\n",
    "It is quite challenging to figure out compositions in Java as it needs dynamic information."
   ]
  },
  {
   "cell_type": "markdown",
   "id": "f7ad731f-1a1e-4d8c-a0f5-9799b86d975b",
   "metadata": {},
   "source": [
    "## Aggregation"
   ]
  },
  {
   "cell_type": "markdown",
   "id": "59793a85",
   "metadata": {},
   "source": [
    "#### Fields (member variables)\n",
    "\n",
    "Collect field information of each class."
   ]
  },
  {
   "cell_type": "code",
   "execution_count": null,
   "id": "c5aecbf9",
   "metadata": {},
   "outputs": [],
   "source": [
    "classes = {}\n",
    "\n",
    "for javafile in javafiles:\n",
    "    myast = getAST(javafile)\n",
    "    for path, node in javalang.ast.walk_tree(myast):\n",
    "        if isinstance(node, javalang.tree.ClassDeclaration):\n",
    "           classes[node.name] = {\"ast_node\": node}"
   ]
  },
  {
   "cell_type": "code",
   "execution_count": null,
   "id": "2a66daa2",
   "metadata": {},
   "outputs": [],
   "source": [
    "for cname, props in classes.items():\n",
    "    fields = {}\n",
    "    for field in props[\"ast_node\"].fields:\n",
    "        type_names = []\n",
    "        if isinstance(field.type, javalang.tree.BasicType):\n",
    "            type_names.append(field.type.name)\n",
    "        elif isinstance(field.type, javalang.tree.ReferenceType):\n",
    "            type_names.append(field.type.name)\n",
    "            if field.type.arguments is not None:\n",
    "                for path, node in javalang.ast.walk_tree(field.type.arguments):\n",
    "                    if isinstance(node, javalang.tree.ReferenceType):\n",
    "                        type_names.append(node.name)\n",
    "        for decl in field.declarators:\n",
    "            fields[decl.name] = {\n",
    "                \"static\": True if \"static\" in field.modifiers else False,\n",
    "                \"types\": type_names\n",
    "            }\n",
    "    classes[cname][\"fields\"] = fields"
   ]
  },
  {
   "cell_type": "markdown",
   "id": "83307041",
   "metadata": {},
   "source": [
    "Check fields for each class."
   ]
  },
  {
   "cell_type": "code",
   "execution_count": null,
   "id": "45a44404",
   "metadata": {},
   "outputs": [],
   "source": [
    "for cname, props in classes.items():\n",
    "    fields = props[\"fields\"]\n",
    "    print(f\"{cname}:\")\n",
    "    for f in fields:\n",
    "        print(f\"\\t{f}: {fields[f]}\")"
   ]
  },
  {
   "cell_type": "markdown",
   "id": "a28c9287",
   "metadata": {},
   "source": [
    "#### Find aggregation between classes\n",
    "\n"
   ]
  },
  {
   "cell_type": "code",
   "execution_count": null,
   "id": "152f149e",
   "metadata": {},
   "outputs": [],
   "source": [
    "# Iterate member variable information (type information)"
   ]
  },
  {
   "cell_type": "markdown",
   "id": "5ea5fe84",
   "metadata": {},
   "source": [
    "## Dependencies\n",
    "\n",
    "### Methods\n",
    "\n",
    "Collect type information from method bodies for dependency relationships."
   ]
  },
  {
   "cell_type": "markdown",
   "id": "edd25c11",
   "metadata": {},
   "source": [
    "#### Constructors"
   ]
  },
  {
   "cell_type": "code",
   "execution_count": null,
   "id": "5bade6b3",
   "metadata": {},
   "outputs": [],
   "source": [
    "for cname, props in classes.items():\n",
    "#     print(f\"{cname}:\")\n",
    "    consts = {}\n",
    "    for const in props[\"ast_node\"].constructors:\n",
    "        typeformal = []\n",
    "        for param in const.parameters:\n",
    "            typeformal.append(param.type.name)\n",
    "        ckey = \"+\".join(typeformal) if len(typeformal) > 0 else \"void\"\n",
    "        consts[ckey] = const\n",
    "#         print(\"\\tconstructor:\", ckey)\n",
    "    classes[cname][\"constructors\"] = consts\n",
    "\n"
   ]
  },
  {
   "cell_type": "markdown",
   "id": "855d94eb",
   "metadata": {},
   "source": [
    "#### Other member methods"
   ]
  },
  {
   "cell_type": "code",
   "execution_count": null,
   "id": "b83b72e1",
   "metadata": {},
   "outputs": [],
   "source": [
    "for cname, props in classes.items():\n",
    "#     print(f\"{cname}:\")\n",
    "    methods = {}\n",
    "    for method in props[\"ast_node\"].methods:\n",
    "        typeformal = []\n",
    "        for param in method.parameters:\n",
    "            typeformal.append(param.type.name)\n",
    "        typekey = \"+\".join(typeformal) if len(typeformal) > 0 else \"void\"\n",
    "        ckey = f\"{method.name}({typekey})\"\n",
    "        methods[ckey] = method\n",
    "#         print(\"\\tmethod:\", ckey)\n",
    "    classes[cname][\"methods\"] = methods"
   ]
  },
  {
   "cell_type": "markdown",
   "id": "aa5bd19a",
   "metadata": {},
   "source": [
    "#### Return\n",
    "\n",
    "Collect the type information of the return type of a method."
   ]
  },
  {
   "cell_type": "code",
   "execution_count": null,
   "id": "47a12f86",
   "metadata": {},
   "outputs": [],
   "source": [
    "def collect_type_strings(node):\n",
    "    type_strings = []\n",
    "    for path, node in javalang.ast.walk_tree(node):\n",
    "        if isinstance(node, javalang.tree.BasicType):\n",
    "            type_strings.append(node.name)\n",
    "        if isinstance(node, javalang.tree.ReferenceType):\n",
    "            type_strings.append(node.name)\n",
    "    return set(type_strings)"
   ]
  },
  {
   "cell_type": "code",
   "execution_count": null,
   "id": "4a53ac86",
   "metadata": {},
   "outputs": [],
   "source": [
    "for cname, props in classes.items():\n",
    "#     print(f\"{cname}:\")\n",
    "    dependent_types = set()\n",
    "    for mkey, node in props[\"methods\"].items():\n",
    "        ret_type_set = collect_type_strings(node.return_type) if node.return_type is not None else set()\n",
    "        dependent_types = dependent_types.union(ret_type_set)\n",
    "    classes[cname][\"dependency\"] = dependent_types\n",
    "#     print(f\"\\tdependency: {dependent_types}\")"
   ]
  },
  {
   "cell_type": "markdown",
   "id": "cfd72843",
   "metadata": {},
   "source": [
    "#### Formal parameters"
   ]
  },
  {
   "cell_type": "code",
   "execution_count": null,
   "id": "74f0e1e3",
   "metadata": {},
   "outputs": [],
   "source": [
    "for cname, props in classes.items():\n",
    "    print(f\"{cname}:\")\n",
    "# [\"constructors\"]\n",
    "    props[\"dependency\"]\n",
    "    for mkey, node in props[\"constructors\"].items():\n",
    "        for param in node.parameters:\n",
    "            props[\"dependency\"] = props[\"dependency\"].union(collect_type_strings(param))\n",
    "    for mkey, node in props[\"methods\"].items():\n",
    "        for param in node.parameters:\n",
    "            props[\"dependency\"] = props[\"dependency\"].union(collect_type_strings(param))\n",
    "    d_type = props[\"dependency\"]\n",
    "    print(f\"\\tdependency: {d_type}\")"
   ]
  },
  {
   "cell_type": "markdown",
   "id": "4af17abf",
   "metadata": {},
   "source": [
    "#### Statements in method bodies"
   ]
  },
  {
   "cell_type": "code",
   "execution_count": null,
   "id": "085bd60d",
   "metadata": {},
   "outputs": [],
   "source": []
  }
 ],
 "metadata": {
  "kernelspec": {
   "display_name": "Python 3 (ipykernel)",
   "language": "python",
   "name": "python3"
  },
  "language_info": {
   "codemirror_mode": {
    "name": "ipython",
    "version": 3
   },
   "file_extension": ".py",
   "mimetype": "text/x-python",
   "name": "python",
   "nbconvert_exporter": "python",
   "pygments_lexer": "ipython3",
   "version": "3.11.6"
  }
 },
 "nbformat": 4,
 "nbformat_minor": 5
}
