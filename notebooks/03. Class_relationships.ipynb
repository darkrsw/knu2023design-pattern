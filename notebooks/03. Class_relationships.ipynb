{
 "cells": [
  {
   "cell_type": "markdown",
   "id": "3c81e7d3-4c1d-49ea-a663-4a5b337e9fc5",
   "metadata": {},
   "source": [
    "# Class level relationships"
   ]
  },
  {
   "cell_type": "markdown",
   "id": "0049271f-cb1d-465b-9bde-c5378c465be3",
   "metadata": {},
   "source": [
    "## Generalization"
   ]
  },
  {
   "cell_type": "markdown",
   "id": "e00bc075-c439-4baa-bf44-852fd7b9b159",
   "metadata": {},
   "source": [
    "We need a target project rather than a single file."
   ]
  },
  {
   "cell_type": "code",
   "execution_count": null,
   "id": "026c7a75-ce97-416c-8c1e-4b7b7dbf5539",
   "metadata": {},
   "outputs": [],
   "source": [
    "# Clone a target project. This time, we try Mojang/brigadier, a MineCraft program.\n",
    "!git clone git@github.com:Mojang/brigadier.git"
   ]
  },
  {
   "cell_type": "code",
   "execution_count": 1,
   "id": "987887f2-8e30-46b3-aae6-5e3545569dff",
   "metadata": {},
   "outputs": [
    {
     "name": "stdout",
     "output_type": "stream",
     "text": [
      "./brigadier/src/main/java/com/mojang/brigadier/SingleRedirectModifier.java\n",
      "./brigadier/src/main/java/com/mojang/brigadier/Message.java\n",
      "./brigadier/src/main/java/com/mojang/brigadier/ResultConsumer.java\n",
      "./brigadier/src/main/java/com/mojang/brigadier/Command.java\n",
      "./brigadier/src/main/java/com/mojang/brigadier/StringReader.java\n",
      "./brigadier/src/main/java/com/mojang/brigadier/ParseResults.java\n",
      "./brigadier/src/main/java/com/mojang/brigadier/ImmutableStringReader.java\n",
      "./brigadier/src/main/java/com/mojang/brigadier/RedirectModifier.java\n",
      "./brigadier/src/main/java/com/mojang/brigadier/AmbiguityConsumer.java\n",
      "./brigadier/src/main/java/com/mojang/brigadier/LiteralMessage.java\n",
      "./brigadier/src/main/java/com/mojang/brigadier/CommandDispatcher.java\n",
      "./brigadier/src/main/java/com/mojang/brigadier/tree/ArgumentCommandNode.java\n",
      "./brigadier/src/main/java/com/mojang/brigadier/tree/LiteralCommandNode.java\n",
      "./brigadier/src/main/java/com/mojang/brigadier/tree/CommandNode.java\n",
      "./brigadier/src/main/java/com/mojang/brigadier/tree/RootCommandNode.java\n",
      "./brigadier/src/main/java/com/mojang/brigadier/context/ParsedArgument.java\n",
      "./brigadier/src/main/java/com/mojang/brigadier/context/SuggestionContext.java\n",
      "./brigadier/src/main/java/com/mojang/brigadier/context/CommandContextBuilder.java\n",
      "./brigadier/src/main/java/com/mojang/brigadier/context/ContextChain.java\n",
      "./brigadier/src/main/java/com/mojang/brigadier/context/StringRange.java\n",
      "./brigadier/src/main/java/com/mojang/brigadier/context/ParsedCommandNode.java\n",
      "./brigadier/src/main/java/com/mojang/brigadier/context/CommandContext.java\n",
      "./brigadier/src/main/java/com/mojang/brigadier/suggestion/SuggestionProvider.java\n",
      "./brigadier/src/main/java/com/mojang/brigadier/suggestion/Suggestions.java\n",
      "./brigadier/src/main/java/com/mojang/brigadier/suggestion/SuggestionsBuilder.java\n",
      "./brigadier/src/main/java/com/mojang/brigadier/suggestion/IntegerSuggestion.java\n",
      "./brigadier/src/main/java/com/mojang/brigadier/suggestion/Suggestion.java\n",
      "./brigadier/src/main/java/com/mojang/brigadier/exceptions/BuiltInExceptions.java\n",
      "./brigadier/src/main/java/com/mojang/brigadier/exceptions/CommandSyntaxException.java\n",
      "./brigadier/src/main/java/com/mojang/brigadier/exceptions/DynamicCommandExceptionType.java\n",
      "./brigadier/src/main/java/com/mojang/brigadier/exceptions/BuiltInExceptionProvider.java\n",
      "./brigadier/src/main/java/com/mojang/brigadier/exceptions/Dynamic4CommandExceptionType.java\n",
      "./brigadier/src/main/java/com/mojang/brigadier/exceptions/CommandExceptionType.java\n",
      "./brigadier/src/main/java/com/mojang/brigadier/exceptions/Dynamic2CommandExceptionType.java\n",
      "./brigadier/src/main/java/com/mojang/brigadier/exceptions/SimpleCommandExceptionType.java\n",
      "./brigadier/src/main/java/com/mojang/brigadier/exceptions/DynamicNCommandExceptionType.java\n",
      "./brigadier/src/main/java/com/mojang/brigadier/exceptions/Dynamic3CommandExceptionType.java\n",
      "./brigadier/src/main/java/com/mojang/brigadier/builder/RequiredArgumentBuilder.java\n",
      "./brigadier/src/main/java/com/mojang/brigadier/builder/LiteralArgumentBuilder.java\n",
      "./brigadier/src/main/java/com/mojang/brigadier/builder/ArgumentBuilder.java\n",
      "./brigadier/src/main/java/com/mojang/brigadier/arguments/BoolArgumentType.java\n",
      "./brigadier/src/main/java/com/mojang/brigadier/arguments/LongArgumentType.java\n",
      "./brigadier/src/main/java/com/mojang/brigadier/arguments/StringArgumentType.java\n",
      "./brigadier/src/main/java/com/mojang/brigadier/arguments/IntegerArgumentType.java\n",
      "./brigadier/src/main/java/com/mojang/brigadier/arguments/FloatArgumentType.java\n",
      "./brigadier/src/main/java/com/mojang/brigadier/arguments/DoubleArgumentType.java\n",
      "./brigadier/src/main/java/com/mojang/brigadier/arguments/ArgumentType.java\n"
     ]
    }
   ],
   "source": [
    "# First, we need to read many java files.\n",
    "# from os.path import isfile, join\n",
    "import os\n",
    "\n",
    "path = \"./brigadier/src/main/java/**/*.java\"\n",
    "\n",
    "from glob import glob\n",
    "\n",
    "\n",
    "for filename in glob(path, recursive=True):\n",
    "    print(filename)"
   ]
  },
  {
   "cell_type": "code",
   "execution_count": 2,
   "id": "870dcdb6-7c6f-468d-b097-6dc5c8369340",
   "metadata": {},
   "outputs": [
    {
     "data": {
      "text/plain": [
       "47"
      ]
     },
     "execution_count": 2,
     "metadata": {},
     "output_type": "execute_result"
    }
   ],
   "source": [
    "javafiles = list(glob(path, recursive=True))\n",
    "len(javafiles)"
   ]
  },
  {
   "cell_type": "code",
   "execution_count": 3,
   "id": "e898dfda-bc30-4c5e-8e6f-6a00c5380905",
   "metadata": {},
   "outputs": [],
   "source": [
    "## Parser function\n",
    "import javalang\n",
    "\n",
    "def getAST(path: str):\n",
    "    with open(path, \"r\") as f:\n",
    "        code = f.read()\n",
    "    return javalang.parse.parse(code)"
   ]
  },
  {
   "cell_type": "markdown",
   "id": "ec7fe60b-efde-4da8-b695-4069fb748697",
   "metadata": {},
   "source": [
    "## Get AST one-by-one"
   ]
  },
  {
   "cell_type": "code",
   "execution_count": 24,
   "id": "0451a21c",
   "metadata": {},
   "outputs": [],
   "source": [
    "# print(javafiles[0])\n",
    "myast = getAST(javafiles[14])\n",
    "# myast"
   ]
  },
  {
   "cell_type": "markdown",
   "id": "1d0f25de-450f-40f8-9da0-47a453b8912f",
   "metadata": {},
   "source": [
    "## Detect `extends` and `implements`"
   ]
  },
  {
   "cell_type": "code",
   "execution_count": 4,
   "id": "67e6a7f9",
   "metadata": {},
   "outputs": [],
   "source": [
    "gen_real_dict = {}\n",
    "\n",
    "for javafile in javafiles:\n",
    "    myast = getAST(javafile)\n",
    "    for path, node in javalang.ast.walk_tree(myast):\n",
    "        if isinstance(node, javalang.tree.ClassDeclaration):\n",
    "            gen_real_dict[node.name] = { \"extends\": node.extends.name if node.extends is not None else None,\n",
    "                                         \"implements\": list([atype.name for atype in node.implements]) if node.implements is not None else None,\n",
    "                                         \"type\": \"class\"}\n",
    "#             print(\"=====\")\n",
    "#             print(\"Class:\", node.name)\n",
    "#             print(\"Extends:\", node.extends)\n",
    "#             print(\"Implements:\", node.implements)\n",
    "        elif isinstance(node, javalang.tree.InterfaceDeclaration):\n",
    "            gen_real_dict[node.name] = { \"extends\": node.extends.name if node.extends is not None else None,\n",
    "                                         \"type\": \"interface\"}\n",
    "#             print(\"=====\")\n",
    "#             print(\"Interface:\", node.name)\n",
    "#             print(\"Extends:\", node.extends)\n",
    "        elif isinstance(node, javalang.tree.AnnotationDeclaration):\n",
    "            gen_real_dict[node.name] = {}\n",
    "#             print(\"=====\")\n",
    "#             print(\"Annotation:\", node.name)\n",
    "        elif isinstance(node, javalang.tree.EnumDeclaration):\n",
    "            gen_real_dict[node.name] = { \"implements\": list([atype.name for atype in node.implements]) if node.implements is not None else None,\n",
    "                                         \"type\": \"enum\"}\n",
    "#             print(\"=====\")\n",
    "#             print(\"Enum:\", node.name)\n",
    "#             print(\"Implements:\", node.implements)    "
   ]
  },
  {
   "cell_type": "code",
   "execution_count": 45,
   "id": "2dcc1543",
   "metadata": {},
   "outputs": [
    {
     "name": "stdout",
     "output_type": "stream",
     "text": [
      "SingleRedirectModifier is dangling\n",
      "ResultConsumer is dangling\n",
      "Command is dangling\n",
      "ParseResults is dangling\n",
      "RedirectModifier is dangling\n",
      "AmbiguityConsumer is dangling\n",
      "CommandDispatcher is dangling\n",
      "ParsedArgument is dangling\n",
      "SuggestionContext is dangling\n",
      "CommandContextBuilder is dangling\n",
      "ContextChain is dangling\n",
      "Stage is dangling\n",
      "StringRange is dangling\n",
      "ParsedCommandNode is dangling\n",
      "CommandContext is dangling\n",
      "SuggestionProvider is dangling\n",
      "Suggestions is dangling\n",
      "SuggestionsBuilder is dangling\n",
      "Function is dangling\n",
      "StringType is dangling\n"
     ]
    }
   ],
   "source": [
    "# gen_real_dict\n",
    "for key, value in gen_real_dict.items():\n",
    "    if value[\"type\"] == \"class\":\n",
    "        if value[\"extends\"] is not None:\n",
    "            gen_real_dict[key][\"dangling\"] = False\n",
    "            if value[\"extends\"] in gen_real_dict:\n",
    "                gen_real_dict[value[\"extends\"]][\"dangling\"] = False\n",
    "        if value[\"implements\"] is not None:\n",
    "            for aiterface in value[\"implements\"]:\n",
    "                gen_real_dict[key][\"dangling\"] = False\n",
    "                if aiterface in gen_real_dict:\n",
    "                    gen_real_dict[aiterface][\"dangling\"] = False\n",
    "    elif value[\"type\"] == \"interface\":\n",
    "        if value[\"extends\"] is not None:\n",
    "            gen_real_dict[key][\"dangling\"] = False\n",
    "            if value[\"extends\"] in gen_real_dict:\n",
    "                gen_real_dict[value[\"extends\"]][\"dangling\"] = False\n",
    "#     if value[\"implements\"] is not None and len(value[\"implements\"]) > 1:\n",
    "#         print(f\"{key}:\", value[\"implements\"])\n",
    "\n",
    "for key, value in gen_real_dict.items():\n",
    "    if \"dangling\" not in value:\n",
    "        print(f\"{key} is dangling\")"
   ]
  },
  {
   "cell_type": "markdown",
   "id": "7d68682e",
   "metadata": {},
   "source": [
    "### Excercise: Identify dangling interfaces\n",
    "It should be useful if we can figure out interfaces, which are not implemented by any other classes or is not a parent interface of anohter interface."
   ]
  },
  {
   "cell_type": "code",
   "execution_count": 5,
   "id": "d1ba9925",
   "metadata": {},
   "outputs": [
    {
     "data": {
      "text/plain": [
       "{'SingleRedirectModifier': {'extends': None, 'type': 'interface'},\n",
       " 'Message': {'extends': None, 'type': 'interface'},\n",
       " 'ResultConsumer': {'extends': None, 'type': 'interface'},\n",
       " 'Command': {'extends': None, 'type': 'interface'},\n",
       " 'StringReader': {'extends': None,\n",
       "  'implements': ['ImmutableStringReader'],\n",
       "  'type': 'class'},\n",
       " 'ParseResults': {'extends': None, 'implements': None, 'type': 'class'},\n",
       " 'ImmutableStringReader': {'extends': None, 'type': 'interface'},\n",
       " 'RedirectModifier': {'extends': None, 'type': 'interface'},\n",
       " 'AmbiguityConsumer': {'extends': None, 'type': 'interface'},\n",
       " 'LiteralMessage': {'extends': None,\n",
       "  'implements': ['Message'],\n",
       "  'type': 'class'},\n",
       " 'CommandDispatcher': {'extends': None, 'implements': None, 'type': 'class'},\n",
       " 'ArgumentCommandNode': {'extends': 'CommandNode',\n",
       "  'implements': None,\n",
       "  'type': 'class'},\n",
       " 'LiteralCommandNode': {'extends': 'CommandNode',\n",
       "  'implements': None,\n",
       "  'type': 'class'},\n",
       " 'CommandNode': {'extends': None,\n",
       "  'implements': ['Comparable'],\n",
       "  'type': 'class'},\n",
       " 'RootCommandNode': {'extends': 'CommandNode',\n",
       "  'implements': None,\n",
       "  'type': 'class'},\n",
       " 'ParsedArgument': {'extends': None, 'implements': None, 'type': 'class'},\n",
       " 'SuggestionContext': {'extends': None, 'implements': None, 'type': 'class'},\n",
       " 'CommandContextBuilder': {'extends': None,\n",
       "  'implements': None,\n",
       "  'type': 'class'},\n",
       " 'ContextChain': {'extends': None, 'implements': None, 'type': 'class'},\n",
       " 'Stage': {'implements': None, 'type': 'enum'},\n",
       " 'StringRange': {'extends': None, 'implements': None, 'type': 'class'},\n",
       " 'ParsedCommandNode': {'extends': None, 'implements': None, 'type': 'class'},\n",
       " 'CommandContext': {'extends': None, 'implements': None, 'type': 'class'},\n",
       " 'SuggestionProvider': {'extends': None, 'type': 'interface'},\n",
       " 'Suggestions': {'extends': None, 'implements': None, 'type': 'class'},\n",
       " 'SuggestionsBuilder': {'extends': None, 'implements': None, 'type': 'class'},\n",
       " 'IntegerSuggestion': {'extends': 'Suggestion',\n",
       "  'implements': None,\n",
       "  'type': 'class'},\n",
       " 'Suggestion': {'extends': None,\n",
       "  'implements': ['Comparable'],\n",
       "  'type': 'class'},\n",
       " 'BuiltInExceptions': {'extends': None,\n",
       "  'implements': ['BuiltInExceptionProvider'],\n",
       "  'type': 'class'},\n",
       " 'CommandSyntaxException': {'extends': 'Exception',\n",
       "  'implements': None,\n",
       "  'type': 'class'},\n",
       " 'DynamicCommandExceptionType': {'extends': None,\n",
       "  'implements': ['CommandExceptionType'],\n",
       "  'type': 'class'},\n",
       " 'BuiltInExceptionProvider': {'extends': None, 'type': 'interface'},\n",
       " 'Dynamic4CommandExceptionType': {'extends': None,\n",
       "  'implements': ['CommandExceptionType'],\n",
       "  'type': 'class'},\n",
       " 'Function': {'extends': None, 'type': 'interface'},\n",
       " 'CommandExceptionType': {'extends': None, 'type': 'interface'},\n",
       " 'Dynamic2CommandExceptionType': {'extends': None,\n",
       "  'implements': ['CommandExceptionType'],\n",
       "  'type': 'class'},\n",
       " 'SimpleCommandExceptionType': {'extends': None,\n",
       "  'implements': ['CommandExceptionType'],\n",
       "  'type': 'class'},\n",
       " 'DynamicNCommandExceptionType': {'extends': None,\n",
       "  'implements': ['CommandExceptionType'],\n",
       "  'type': 'class'},\n",
       " 'Dynamic3CommandExceptionType': {'extends': None,\n",
       "  'implements': ['CommandExceptionType'],\n",
       "  'type': 'class'},\n",
       " 'RequiredArgumentBuilder': {'extends': 'ArgumentBuilder',\n",
       "  'implements': None,\n",
       "  'type': 'class'},\n",
       " 'LiteralArgumentBuilder': {'extends': 'ArgumentBuilder',\n",
       "  'implements': None,\n",
       "  'type': 'class'},\n",
       " 'ArgumentBuilder': {'extends': None, 'implements': None, 'type': 'class'},\n",
       " 'BoolArgumentType': {'extends': None,\n",
       "  'implements': ['ArgumentType'],\n",
       "  'type': 'class'},\n",
       " 'LongArgumentType': {'extends': None,\n",
       "  'implements': ['ArgumentType'],\n",
       "  'type': 'class'},\n",
       " 'StringArgumentType': {'extends': None,\n",
       "  'implements': ['ArgumentType'],\n",
       "  'type': 'class'},\n",
       " 'StringType': {'implements': None, 'type': 'enum'},\n",
       " 'IntegerArgumentType': {'extends': None,\n",
       "  'implements': ['ArgumentType'],\n",
       "  'type': 'class'},\n",
       " 'FloatArgumentType': {'extends': None,\n",
       "  'implements': ['ArgumentType'],\n",
       "  'type': 'class'},\n",
       " 'DoubleArgumentType': {'extends': None,\n",
       "  'implements': ['ArgumentType'],\n",
       "  'type': 'class'},\n",
       " 'ArgumentType': {'extends': None, 'type': 'interface'}}"
      ]
     },
     "execution_count": 5,
     "metadata": {},
     "output_type": "execute_result"
    }
   ],
   "source": [
    "gen_real_dict"
   ]
  },
  {
   "cell_type": "markdown",
   "id": "f85d3c3c-0ba3-4725-a1c1-62e648f7622e",
   "metadata": {},
   "source": [
    "## Store generalization relationships in a data structure"
   ]
  },
  {
   "cell_type": "code",
   "execution_count": 36,
   "id": "6aea2b99",
   "metadata": {},
   "outputs": [
    {
     "name": "stdout",
     "output_type": "stream",
     "text": [
      "ArgumentCommandNode -> CommandNode\n",
      "LiteralCommandNode -> CommandNode\n",
      "RootCommandNode -> CommandNode\n",
      "IntegerSuggestion -> Suggestion\n",
      "CommandSyntaxException -> Exception\n",
      "RequiredArgumentBuilder -> ArgumentBuilder\n",
      "LiteralArgumentBuilder -> ArgumentBuilder\n"
     ]
    }
   ],
   "source": [
    "for key, value in gen_real_dict.items():\n",
    "    if value[\"extends\"] is not None:\n",
    "        parent = value[\"extends\"]\n",
    "        print(f\"{key} -> {parent}\")"
   ]
  },
  {
   "cell_type": "markdown",
   "id": "03659c38",
   "metadata": {},
   "source": [
    "### Excercise: making inverse relationships of generalization\n",
    "Currently, we have `subclass -> parentclass`. We can computer `parentclass -> subclass`.\n",
    "\n",
    "In addition, we can create a forest of class hierarchy in a project by using the above information."
   ]
  },
  {
   "cell_type": "markdown",
   "id": "55d085f8-04fd-4fd9-8291-90916105134f",
   "metadata": {},
   "source": [
    "# Association"
   ]
  },
  {
   "cell_type": "markdown",
   "id": "27791f55-3736-4047-a010-e23ea49bb98f",
   "metadata": {},
   "source": [
    "## Composition\n",
    "It is quite challenging to figure out compositions in Java as it needs dynamic information."
   ]
  },
  {
   "cell_type": "markdown",
   "id": "f7ad731f-1a1e-4d8c-a0f5-9799b86d975b",
   "metadata": {},
   "source": [
    "## Aggregation"
   ]
  },
  {
   "cell_type": "markdown",
   "id": "59793a85",
   "metadata": {},
   "source": [
    "#### Fields (member variables)"
   ]
  },
  {
   "cell_type": "code",
   "execution_count": 8,
   "id": "c5aecbf9",
   "metadata": {},
   "outputs": [],
   "source": [
    "classes = {}\n",
    "\n",
    "for javafile in javafiles:\n",
    "    myast = getAST(javafile)\n",
    "    for path, node in javalang.ast.walk_tree(myast):\n",
    "        if isinstance(node, javalang.tree.ClassDeclaration):\n",
    "           classes[node.name] = {\"ast_node\": node}"
   ]
  },
  {
   "cell_type": "code",
   "execution_count": 18,
   "id": "2a66daa2",
   "metadata": {},
   "outputs": [
    {
     "name": "stdout",
     "output_type": "stream",
     "text": [
      "['char']\n",
      "['char']\n",
      "['char']\n",
      "['String']\n",
      "['int']\n",
      "['CommandContextBuilder', 'S']\n",
      "['Map', 'CommandNode', 'S', 'CommandSyntaxException']\n",
      "['ImmutableStringReader']\n",
      "['String']\n",
      "['String']\n",
      "['char']\n",
      "['String']\n",
      "['String']\n",
      "['String']\n",
      "['String']\n",
      "['String']\n",
      "['RootCommandNode', 'S']\n",
      "['Predicate', 'CommandNode', 'S']\n",
      "['ResultConsumer', 'S']\n",
      "['String']\n",
      "['String']\n",
      "['String']\n",
      "['ArgumentType', 'T']\n",
      "['SuggestionProvider', 'S']\n",
      "['String']\n",
      "['String']\n",
      "['Map', 'String', 'CommandNode', 'S']\n",
      "['Map', 'String', 'LiteralCommandNode', 'S']\n",
      "['Map', 'String', 'ArgumentCommandNode', 'S']\n",
      "['Predicate', 'S']\n",
      "['CommandNode', 'S']\n",
      "['RedirectModifier', 'S']\n",
      "['boolean']\n",
      "['Command', 'S']\n",
      "['StringRange']\n",
      "['T']\n",
      "['CommandNode', 'S']\n",
      "['int']\n",
      "['Map', 'String', 'ParsedArgument', 'S']\n",
      "['CommandNode', 'S']\n",
      "['List', 'ParsedCommandNode', 'S']\n",
      "['CommandDispatcher', 'S']\n",
      "['S']\n",
      "['Command', 'S']\n",
      "['CommandContextBuilder', 'S']\n",
      "['StringRange']\n",
      "['RedirectModifier', 'S']\n",
      "['boolean']\n",
      "['List', 'CommandContext', 'S']\n",
      "['CommandContext', 'S']\n",
      "['ContextChain', 'S']\n",
      "['int']\n",
      "['int']\n",
      "['CommandNode', 'S']\n",
      "['StringRange']\n",
      "['Map', 'Class', 'Class']\n",
      "['S']\n",
      "['String']\n",
      "['Command', 'S']\n",
      "['Map', 'String', 'ParsedArgument', 'S']\n",
      "['CommandNode', 'S']\n",
      "['List', 'ParsedCommandNode', 'S']\n",
      "['StringRange']\n",
      "['CommandContext', 'S']\n",
      "['RedirectModifier', 'S']\n",
      "['boolean']\n",
      "['Suggestions']\n",
      "['StringRange']\n",
      "['List', 'Suggestion']\n",
      "['String']\n",
      "['String']\n",
      "['int']\n",
      "['String']\n",
      "['String']\n",
      "['List', 'Suggestion']\n",
      "['int']\n",
      "['StringRange']\n",
      "['String']\n",
      "['Message']\n",
      "['Dynamic2CommandExceptionType']\n",
      "['Dynamic2CommandExceptionType']\n",
      "['Dynamic2CommandExceptionType']\n",
      "['Dynamic2CommandExceptionType']\n",
      "['Dynamic2CommandExceptionType']\n",
      "['Dynamic2CommandExceptionType']\n",
      "['Dynamic2CommandExceptionType']\n",
      "['Dynamic2CommandExceptionType']\n",
      "['DynamicCommandExceptionType']\n",
      "['SimpleCommandExceptionType']\n",
      "['SimpleCommandExceptionType']\n",
      "['DynamicCommandExceptionType']\n",
      "['DynamicCommandExceptionType']\n",
      "['DynamicCommandExceptionType']\n",
      "['SimpleCommandExceptionType']\n",
      "['DynamicCommandExceptionType']\n",
      "['SimpleCommandExceptionType']\n",
      "['DynamicCommandExceptionType']\n",
      "['SimpleCommandExceptionType']\n",
      "['DynamicCommandExceptionType']\n",
      "['SimpleCommandExceptionType']\n",
      "['SimpleCommandExceptionType']\n",
      "['DynamicCommandExceptionType']\n",
      "['SimpleCommandExceptionType']\n",
      "['SimpleCommandExceptionType']\n",
      "['SimpleCommandExceptionType']\n",
      "['DynamicCommandExceptionType']\n",
      "['int']\n",
      "['boolean']\n",
      "['BuiltInExceptionProvider']\n",
      "['CommandExceptionType']\n",
      "['Message']\n",
      "['String']\n",
      "['int']\n",
      "['Function', 'Object', 'Message']\n",
      "['Function']\n",
      "['Function']\n",
      "['Message']\n",
      "['Function']\n",
      "['Function']\n",
      "['String']\n",
      "['ArgumentType', 'T']\n",
      "['SuggestionProvider', 'S']\n",
      "['String']\n",
      "['RootCommandNode', 'S']\n",
      "['Command', 'S']\n",
      "['Predicate', 'S']\n",
      "['CommandNode', 'S']\n",
      "['RedirectModifier', 'S']\n",
      "['boolean']\n",
      "['Collection', 'String']\n",
      "['Collection', 'String']\n",
      "['long']\n",
      "['long']\n",
      "['StringType']\n",
      "['Collection', 'String']\n",
      "['int']\n",
      "['int']\n",
      "['Collection', 'String']\n",
      "['float']\n",
      "['float']\n",
      "['Collection', 'String']\n",
      "['double']\n",
      "['double']\n"
     ]
    }
   ],
   "source": [
    "for cname, props in classes.items():\n",
    "    fields = {}\n",
    "    for field in props[\"ast_node\"].fields:\n",
    "        type_names = []\n",
    "        if isinstance(field.type, javalang.tree.BasicType):\n",
    "            type_names.append(field.type.name)\n",
    "        elif isinstance(field.type, javalang.tree.ReferenceType):\n",
    "            type_names.append(field.type.name)\n",
    "            if field.type.arguments is not None:\n",
    "                for path, node in javalang.ast.walk_tree(field.type.arguments):\n",
    "                    if isinstance(node, javalang.tree.ReferenceType):\n",
    "                        type_names.append(node.name)\n",
    "#         print(\"type:\", field.type)\n",
    "#         print(\"modifier:\", field.modifiers)\n",
    "#         print(\"annotations:\", field.annotations)\n",
    "        for decl in field.declarators:\n",
    "            fields[decl.name] = {\n",
    "                \"static\": True if \"static\" in field.modifiers else False,\n",
    "                \"types\": type_names\n",
    "            }\n",
    "        print(type_names)\n",
    "            \n",
    "#             print(\"declarated name:\", decl.name)"
   ]
  },
  {
   "cell_type": "code",
   "execution_count": null,
   "id": "922b73a3",
   "metadata": {},
   "outputs": [],
   "source": []
  }
 ],
 "metadata": {
  "kernelspec": {
   "display_name": "Python 3 (ipykernel)",
   "language": "python",
   "name": "python3"
  },
  "language_info": {
   "codemirror_mode": {
    "name": "ipython",
    "version": 3
   },
   "file_extension": ".py",
   "mimetype": "text/x-python",
   "name": "python",
   "nbconvert_exporter": "python",
   "pygments_lexer": "ipython3",
   "version": "3.11.6"
  }
 },
 "nbformat": 4,
 "nbformat_minor": 5
}
