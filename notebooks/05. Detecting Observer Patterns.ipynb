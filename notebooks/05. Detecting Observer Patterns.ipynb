{
 "cells": [
  {
   "cell_type": "markdown",
   "id": "b6f65ada",
   "metadata": {},
   "source": [
    "# Detecting Observer Patterns"
   ]
  },
  {
   "cell_type": "markdown",
   "id": "150605fc",
   "metadata": {},
   "source": [
    "### Observer\n",
    "\n",
    "https://refactoring.guru/design-patterns/observer\n",
    "\n"
   ]
  },
  {
   "cell_type": "markdown",
   "id": "7d2046a3",
   "metadata": {},
   "source": [
    "### Publisher with a container\n",
    "\n",
    "It is necessary for a publisher to maintain a container of subscribers."
   ]
  },
  {
   "cell_type": "markdown",
   "id": "cdebe4f1",
   "metadata": {},
   "source": [
    "### Subscriber as an interface or abstract class\n",
    "\n",
    "Subscribers should inherit an interface or abstract class to be subscribed."
   ]
  }
 ],
 "metadata": {
  "kernelspec": {
   "display_name": "Python 3 (ipykernel)",
   "language": "python",
   "name": "python3"
  },
  "language_info": {
   "codemirror_mode": {
    "name": "ipython",
    "version": 3
   },
   "file_extension": ".py",
   "mimetype": "text/x-python",
   "name": "python",
   "nbconvert_exporter": "python",
   "pygments_lexer": "ipython3",
   "version": "3.11.6"
  }
 },
 "nbformat": 4,
 "nbformat_minor": 5
}
