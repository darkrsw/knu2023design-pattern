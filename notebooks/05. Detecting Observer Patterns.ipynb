{
 "cells": [
  {
   "cell_type": "markdown",
   "id": "b6f65ada",
   "metadata": {},
   "source": [
    "# Detecting Observer Patterns"
   ]
  },
  {
   "cell_type": "markdown",
   "id": "150605fc",
   "metadata": {},
   "source": [
    "### Observer\n",
    "\n",
    "https://refactoring.guru/design-patterns/observer\n",
    "\n"
   ]
  },
  {
   "cell_type": "code",
   "execution_count": 1,
   "id": "e6852cda",
   "metadata": {},
   "outputs": [
    {
     "data": {
      "text/plain": [
       "144"
      ]
     },
     "execution_count": 1,
     "metadata": {},
     "output_type": "execute_result"
    }
   ],
   "source": [
    "import javalang\n",
    "import os\n",
    "from glob import glob\n",
    "\n",
    "path = \"./Design-Patterns/**/*.java\"\n",
    "\n",
    "javafiles = list(glob(path, recursive=True))\n",
    "\n",
    "len(javafiles)"
   ]
  },
  {
   "cell_type": "code",
   "execution_count": 3,
   "id": "2b4dffdf",
   "metadata": {},
   "outputs": [],
   "source": [
    "def getAST(path: str):\n",
    "    with open(path, \"r\") as f:\n",
    "        code = f.read()\n",
    "    return javalang.parse.parse(code)"
   ]
  },
  {
   "cell_type": "markdown",
   "id": "7d2046a3",
   "metadata": {},
   "source": [
    "### Publisher with a container\n",
    "\n",
    "It is necessary for a publisher to maintain a container of subscribers."
   ]
  },
  {
   "cell_type": "code",
   "execution_count": 11,
   "id": "c0fc6c07",
   "metadata": {},
   "outputs": [
    {
     "name": "stdout",
     "output_type": "stream",
     "text": [
      "IObserver ['addObserver', 'removeObserver']\n",
      "Has adder and remover: WeatherStation\n",
      "MenuComponent ['add', 'remove']\n",
      "Has adder and remover: Menu\n",
      "Publisher: Menu\n",
      "Publisher: Menu\n",
      "Publisher: Menu\n"
     ]
    }
   ],
   "source": [
    "def has_collection(node):\n",
    "    collections = []\n",
    "    for afield in node.fields:\n",
    "        if isinstance(afield.type, javalang.tree.ReferenceType):\n",
    "            if afield.type.name.endswith(\"List\") or afield.type.name.endswith(\"Set\"):\n",
    "                for decl in afield.declarators:\n",
    "                    collections.append(decl.name)\n",
    "    return collections\n",
    "\n",
    "def has_collection_access(body, collections):\n",
    "    for path, node in javalang.ast.walk_tree(body):\n",
    "        if isinstance(node, javalang.tree.MethodInvocation):\n",
    "            if node.qualifier in collections:\n",
    "                return True\n",
    "    return False\n",
    "\n",
    "def has_adder_remove(node, collections):\n",
    "    candidates = {}\n",
    "    for amethod in node.methods:\n",
    "        if amethod.body is not None:\n",
    "            if has_collection_access(amethod.body, collections):\n",
    "                candidates[amethod.name] = amethod\n",
    "    \n",
    "    counter = {}\n",
    "    for aname, amethod in candidates.items():\n",
    "        if len(amethod.parameters) == 1:\n",
    "            if isinstance(amethod.parameters[0].type, javalang.tree.ReferenceType):\n",
    "                if amethod.parameters[0].type.name in counter.keys():\n",
    "                    counter[amethod.parameters[0].type.name].append(aname)\n",
    "                else:\n",
    "                    counter[amethod.parameters[0].type.name] = [aname]\n",
    "    \n",
    "    finals = {}\n",
    "    for atype, methods in counter.items():\n",
    "        if len(methods) > 1:\n",
    "            print(atype, methods)\n",
    "            finals[atype] = methods\n",
    "    \n",
    "    return finals\n",
    "            \n",
    "\n",
    "pub_candidates = {}\n",
    "\n",
    "for javafile in javafiles:\n",
    "    myast = getAST(javafile)\n",
    "    for path, node in javalang.ast.walk_tree(myast):\n",
    "        if isinstance(node, javalang.tree.ClassDeclaration):\n",
    "            colls = has_collection(node)\n",
    "            if len(colls) > 0:\n",
    "#                 print(\"Has collections:\", node.name)\n",
    "                subscriber_types = has_adder_remove(node, colls)\n",
    "                if len(subscriber_types) > 0:\n",
    "                    print(\"Has adder and remover:\", node.name)\n",
    "                    pub_candidates[node.name] = node\n",
    "\n",
    "                \n",
    "def has_collection_access(node, collections):\n",
    "    candidates = {}\n",
    "    for amethod in node.methods:\n",
    "        if amethod.body is not None:\n",
    "            if has_collection_access(amethod.body, collections):\n",
    "                candidates[amethod.name] = amethod\n",
    "                \n",
    "subscribers = []\n",
    "\n",
    "for javafile in javafiles:\n",
    "    myast = getAST(javafile)\n",
    "    for path, node in javalang.ast.walk_tree(myast):\n",
    "        if isinstance(node, javalang.tree.ClassDeclaration):\n",
    "            if node.name in subscriber_types.keys():\n",
    "                subscribers.append(node)\n",
    "    \n",
    "mnames = []\n",
    "\n",
    "for asub in subscribers:\n",
    "    for amethod in asub.methods:\n",
    "        mnames.append(amethod.name)\n",
    "        \n",
    "for cname, node in pub_candidates.items():\n",
    "    for amethod in node.methods:\n",
    "        if len(amethod.parameters) == 0:\n",
    "            if amethod.body is not None:\n",
    "                for path, mnode in javalang.ast.walk_tree(amethod.body):\n",
    "                    if isinstance(mnode, javalang.tree.MethodInvocation):\n",
    "                        if mnode.member in mnames:\n",
    "                            print(\"Publisher:\", cname)"
   ]
  },
  {
   "cell_type": "code",
   "execution_count": null,
   "id": "6040363c",
   "metadata": {},
   "outputs": [],
   "source": []
  },
  {
   "cell_type": "markdown",
   "id": "cdebe4f1",
   "metadata": {},
   "source": [
    "### Subscriber as an interface or abstract class\n",
    "\n",
    "Subscribers should inherit an interface or abstract class to be subscribed."
   ]
  }
 ],
 "metadata": {
  "kernelspec": {
   "display_name": "Python 3 (ipykernel)",
   "language": "python",
   "name": "python3"
  },
  "language_info": {
   "codemirror_mode": {
    "name": "ipython",
    "version": 3
   },
   "file_extension": ".py",
   "mimetype": "text/x-python",
   "name": "python",
   "nbconvert_exporter": "python",
   "pygments_lexer": "ipython3",
   "version": "3.11.6"
  }
 },
 "nbformat": 4,
 "nbformat_minor": 5
}
