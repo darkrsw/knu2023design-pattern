{
 "cells": [
  {
   "cell_type": "code",
   "execution_count": 1,
   "id": "1361cc86",
   "metadata": {},
   "outputs": [],
   "source": [
    "import os\n",
    "\n",
    "# path = \"./brigadier/src/main/java/**/*.java\"\n",
    "\n",
    "from glob import glob"
   ]
  },
  {
   "cell_type": "code",
   "execution_count": 6,
   "id": "36140565",
   "metadata": {},
   "outputs": [],
   "source": [
    "def compute_unimplemented(path):\n",
    "    javafiles = list(glob(path+\"/**/*.java\", recursive=True))\n",
    "    print(javafiles)"
   ]
  },
  {
   "cell_type": "code",
   "execution_count": 4,
   "id": "0ff40fca",
   "metadata": {},
   "outputs": [],
   "source": [
    "def test_unimplemented():\n",
    "    expected = {\"DoublePredicate\"}\n",
    "\n",
    "    result = compute_unimplemented(\"./src2\")\n",
    "    assert expected == result"
   ]
  },
  {
   "cell_type": "code",
   "execution_count": 7,
   "id": "be264e15",
   "metadata": {},
   "outputs": [
    {
     "name": "stdout",
     "output_type": "stream",
     "text": [
      "['./src2/example.java']\n"
     ]
    },
    {
     "ename": "AssertionError",
     "evalue": "",
     "output_type": "error",
     "traceback": [
      "\u001b[0;31m---------------------------------------------------------------------------\u001b[0m",
      "\u001b[0;31mAssertionError\u001b[0m                            Traceback (most recent call last)",
      "Cell \u001b[0;32mIn[7], line 1\u001b[0m\n\u001b[0;32m----> 1\u001b[0m \u001b[43mtest_unimplemented\u001b[49m\u001b[43m(\u001b[49m\u001b[43m)\u001b[49m\n",
      "Cell \u001b[0;32mIn[4], line 5\u001b[0m, in \u001b[0;36mtest_unimplemented\u001b[0;34m()\u001b[0m\n\u001b[1;32m      2\u001b[0m expected \u001b[38;5;241m=\u001b[39m {\u001b[38;5;124m\"\u001b[39m\u001b[38;5;124mDoublePredicate\u001b[39m\u001b[38;5;124m\"\u001b[39m}\n\u001b[1;32m      4\u001b[0m result \u001b[38;5;241m=\u001b[39m compute_unimplemented(\u001b[38;5;124m\"\u001b[39m\u001b[38;5;124m./src2\u001b[39m\u001b[38;5;124m\"\u001b[39m)\n\u001b[0;32m----> 5\u001b[0m \u001b[38;5;28;01massert\u001b[39;00m expected \u001b[38;5;241m==\u001b[39m result\n",
      "\u001b[0;31mAssertionError\u001b[0m: "
     ]
    }
   ],
   "source": [
    "test_unimplemented()"
   ]
  },
  {
   "cell_type": "code",
   "execution_count": 8,
   "id": "e62cc558",
   "metadata": {},
   "outputs": [],
   "source": [
    "## Parser function\n",
    "import javalang\n",
    "\n",
    "def getAST(path: str):\n",
    "    with open(path, \"r\") as f:\n",
    "        code = f.read()\n",
    "    return javalang.parse.parse(code)"
   ]
  },
  {
   "cell_type": "code",
   "execution_count": 26,
   "id": "0286beb6",
   "metadata": {},
   "outputs": [],
   "source": [
    "def compute_unimplemented(path):\n",
    "    javafiles = list(glob(path+\"/**/*.java\", recursive=True))\n",
    "\n",
    "    gen_real_dict = {}\n",
    "    for javafile in javafiles:\n",
    "        myast = getAST(javafile)\n",
    "        for path, node in javalang.ast.walk_tree(myast):\n",
    "            if isinstance(node, javalang.tree.ClassDeclaration):\n",
    "                gen_real_dict[node.name] = { \"extends\": node.extends.name if node.extends is not None else None,\n",
    "                                             \"implements\": list([atype.name for atype in node.implements]) if node.implements is not None else None,\n",
    "                                             \"type\": \"class\"}\n",
    "            elif isinstance(node, javalang.tree.InterfaceDeclaration):\n",
    "                gen_real_dict[node.name] = { \"extends\": list([sup.name for sup in node.extends]) if node.extends is not None else None,\n",
    "                                             \"type\": \"interface\"}\n",
    "    \n",
    "    \n",
    "    implemented = []\n",
    "    \n",
    "    # direct implementation\n",
    "    for atype, props in gen_real_dict.items():\n",
    "        if props[\"type\"] == \"class\":\n",
    "            for itype in props[\"implements\"]:\n",
    "                implemented.append(itype)\n",
    "    \n",
    "    implemented2 = []\n",
    "    \n",
    "    def add_parents(itype):\n",
    "        implemented2.append(itype)\n",
    "        if \"extends\" in gen_real_dict[itype] and gen_real_dict[itype][\"extends\"] is not None:\n",
    "            supers = gen_real_dict[itype][\"extends\"]\n",
    "            for sup in supers:\n",
    "                add_parents(sup)\n",
    "    \n",
    "    for itype in set(implemented):\n",
    "        add_parents(itype)\n",
    "        \n",
    "    unimplemented = []\n",
    "    for atype, props in gen_real_dict.items():\n",
    "        if props[\"type\"] == \"interface\" and atype not in implemented2:\n",
    "            unimplemented.append(atype)\n",
    "            \n",
    "    print(unimplemented)\n",
    "    return set(unimplemented)"
   ]
  },
  {
   "cell_type": "code",
   "execution_count": 27,
   "id": "faa7123b",
   "metadata": {},
   "outputs": [
    {
     "name": "stdout",
     "output_type": "stream",
     "text": [
      "['DoublePredicate']\n"
     ]
    }
   ],
   "source": [
    "test_unimplemented()"
   ]
  },
  {
   "cell_type": "code",
   "execution_count": 48,
   "id": "b0d5a475",
   "metadata": {},
   "outputs": [],
   "source": [
    "def collect_class_forest(path):\n",
    "    javafiles = list(glob(path+\"/**/*.java\", recursive=True))\n",
    "\n",
    "    gen_real_dict = {}\n",
    "    for javafile in javafiles:\n",
    "        myast = getAST(javafile)\n",
    "        for path, node in javalang.ast.walk_tree(myast):\n",
    "            if isinstance(node, javalang.tree.ClassDeclaration):\n",
    "                gen_real_dict[node.name] = { \"extends\": node.extends.name if node.extends is not None else None,\n",
    "                                             \"implements\": list([atype.name for atype in node.implements]) if node.implements is not None else None,\n",
    "                                             \"type\": \"class\"}\n",
    "                \n",
    "#     print(gen_real_dict)\n",
    "\n",
    "    topdown = {}\n",
    "    for atype, props in gen_real_dict.items():\n",
    "        if props[\"extends\"] is not None:\n",
    "            sup = props[\"extends\"]\n",
    "            if sup in topdown:\n",
    "                topdown[sup][atype] = {}\n",
    "            else:\n",
    "                topdown[sup] = {atype: {}}\n",
    "        \n",
    "#     print(topdown)\n",
    "\n",
    "    forest = {}\n",
    "    \n",
    "    def update_children(atype):\n",
    "        retdict = {}\n",
    "        if atype in topdown and len(topdown[atype]) > 0:\n",
    "            for child in topdown[atype]:\n",
    "                retdict[child] = update_children(child)\n",
    "        return retdict\n",
    "\n",
    "    for key, value in topdown.items():\n",
    "        ## Figuring out whether it is a root of a tree\n",
    "        if key in gen_real_dict:\n",
    "            if gen_real_dict[key][\"extends\"] is None or gen_real_dict[key][\"extends\"] not in gen_real_dict:\n",
    "                forest[key] = update_children(key)\n",
    "            \n",
    "#     print(forest)\n",
    "    return forest"
   ]
  },
  {
   "cell_type": "code",
   "execution_count": 47,
   "id": "55ea3d84",
   "metadata": {},
   "outputs": [
    {
     "name": "stdout",
     "output_type": "stream",
     "text": [
      "{'CommandNode': {'ArgumentCommandNode': {}, 'LiteralCommandNode': {}, 'RootCommandNode': {}}, 'Suggestion': {'IntegerSuggestion': {}}, 'ArgumentBuilder': {'RequiredArgumentBuilder': {}, 'LiteralArgumentBuilder': {}}}\n"
     ]
    },
    {
     "data": {
      "text/plain": [
       "{'CommandNode': {'ArgumentCommandNode': {},\n",
       "  'LiteralCommandNode': {},\n",
       "  'RootCommandNode': {}},\n",
       " 'Suggestion': {'IntegerSuggestion': {}},\n",
       " 'ArgumentBuilder': {'RequiredArgumentBuilder': {},\n",
       "  'LiteralArgumentBuilder': {}}}"
      ]
     },
     "execution_count": 47,
     "metadata": {},
     "output_type": "execute_result"
    }
   ],
   "source": [
    "collect_class_forest(\"./brigadier/src/main\")"
   ]
  },
  {
   "cell_type": "code",
   "execution_count": 49,
   "id": "3d9989f5",
   "metadata": {},
   "outputs": [
    {
     "name": "stdout",
     "output_type": "stream",
     "text": [
      "Cloning into 'commons-lang'...\n",
      "remote: Enumerating objects: 89853, done.\u001b[K\n",
      "remote: Counting objects: 100% (12976/12976), done.\u001b[K\n",
      "remote: Compressing objects: 100% (1175/1175), done.\u001b[K\n",
      "remote: Total 89853 (delta 11883), reused 12177 (delta 11344), pack-reused 76877\u001b[K\n",
      "Receiving objects: 100% (89853/89853), 26.36 MiB | 8.10 MiB/s, done.\n",
      "Resolving deltas: 100% (41216/41216), done.\n"
     ]
    }
   ],
   "source": [
    "!git clone git@github.com:apache/commons-lang.git"
   ]
  },
  {
   "cell_type": "code",
   "execution_count": 51,
   "id": "b55b3eca",
   "metadata": {},
   "outputs": [
    {
     "name": "stdout",
     "output_type": "stream",
     "text": [
      "error: pathspec '36f98d8' did not match any file(s) known to git\r\n"
     ]
    }
   ],
   "source": []
  },
  {
   "cell_type": "code",
   "execution_count": 52,
   "id": "58d1b5cb",
   "metadata": {},
   "outputs": [
    {
     "data": {
      "text/plain": [
       "{'CharSequenceTranslator': {'CsvEscaper': {},\n",
       "  'CsvUnescaper': {},\n",
       "  'NumericEntityUnescaper': {},\n",
       "  'AggregateTranslator': {},\n",
       "  'OctalUnescaper': {},\n",
       "  'LookupTranslator': {},\n",
       "  'UnicodeUnescaper': {},\n",
       "  'CodePointTranslator': {'UnicodeEscaper': {'JavaUnicodeEscaper': {}},\n",
       "   'UnicodeUnpairedSurrogateRemover': {},\n",
       "   'NumericEntityEscaper': {}}},\n",
       " 'Triple': {'MutableTriple': {}, 'ImmutableTriple': {}},\n",
       " 'Pair': {'MutablePair': {}, 'ImmutablePair': {}, 'Diff': {}},\n",
       " 'Strategy': {'PatternStrategy': {'CaseInsensitiveTextStrategy': {},\n",
       "   'TimeZoneStrategy': {},\n",
       "   'ISO8601TimeZoneStrategy': {}},\n",
       "  'CopyQuotedStrategy': {},\n",
       "  'NumberStrategy': {}},\n",
       " 'AbstractCircuitBreaker': {'ThresholdCircuitBreaker': {},\n",
       "  'EventCountCircuitBreaker': {}},\n",
       " 'BackgroundInitializer': {'MultiBackgroundInitializer': {},\n",
       "  'CallableBackgroundInitializer': {}},\n",
       " 'StateStrategy': {'StateStrategyClosed': {}, 'StateStrategyOpen': {}},\n",
       " 'StrTokenizer': {'StrBuilderTokenizer': {}},\n",
       " 'StrMatcher': {'CharSetMatcher': {},\n",
       "  'CharMatcher': {},\n",
       "  'StringMatcher': {},\n",
       "  'NoMatcher': {},\n",
       "  'TrimMatcher': {}},\n",
       " 'StrLookup': {'MapStrLookup': {}, 'SystemPropertiesStrLookup': {}},\n",
       " 'ToStringStyle': {'RecursiveToStringStyle': {'MultilineRecursiveToStringStyle': {}},\n",
       "  'StandardToStringStyle': {},\n",
       "  'DefaultToStringStyle': {},\n",
       "  'NoFieldNameToStringStyle': {},\n",
       "  'ShortPrefixToStringStyle': {},\n",
       "  'SimpleToStringStyle': {},\n",
       "  'MultiLineToStringStyle': {},\n",
       "  'NoClassNameToStringStyle': {},\n",
       "  'JsonToStringStyle': {}},\n",
       " 'ToStringBuilder': {'ReflectionToStringBuilder': {}}}"
      ]
     },
     "execution_count": 52,
     "metadata": {},
     "output_type": "execute_result"
    }
   ],
   "source": [
    "collect_class_forest(\"./commons-lang/src/main\")"
   ]
  }
 ],
 "metadata": {
  "kernelspec": {
   "display_name": "Python 3 (ipykernel)",
   "language": "python",
   "name": "python3"
  },
  "language_info": {
   "codemirror_mode": {
    "name": "ipython",
    "version": 3
   },
   "file_extension": ".py",
   "mimetype": "text/x-python",
   "name": "python",
   "nbconvert_exporter": "python",
   "pygments_lexer": "ipython3",
   "version": "3.11.6"
  }
 },
 "nbformat": 4,
 "nbformat_minor": 5
}
