{
 "cells": [
  {
   "cell_type": "markdown",
   "id": "3c81e7d3-4c1d-49ea-a663-4a5b337e9fc5",
   "metadata": {},
   "source": [
    "# Class level relationships"
   ]
  },
  {
   "cell_type": "markdown",
   "id": "0049271f-cb1d-465b-9bde-c5378c465be3",
   "metadata": {},
   "source": [
    "## Generalization"
   ]
  },
  {
   "cell_type": "markdown",
   "id": "e00bc075-c439-4baa-bf44-852fd7b9b159",
   "metadata": {},
   "source": [
    "We need a target project rather than a single file."
   ]
  },
  {
   "cell_type": "code",
   "execution_count": null,
   "id": "026c7a75-ce97-416c-8c1e-4b7b7dbf5539",
   "metadata": {},
   "outputs": [],
   "source": [
    "# Clone a target project. This time, we try Mojang/brigadier, a MineCraft program.\n",
    "!git clone git@github.com:Mojang/brigadier.git"
   ]
  },
  {
   "cell_type": "code",
   "execution_count": null,
   "id": "987887f2-8e30-46b3-aae6-5e3545569dff",
   "metadata": {},
   "outputs": [],
   "source": [
    "# First, we need to read many java files.\n",
    "from os.path import isfile, join\n",
    "import os\n",
    "\n",
    "path = \"./brigadier/src/main/java/**/*.java\"\n",
    "\n",
    "from glob import glob\n",
    "\n",
    "\n",
    "for filename in glob(path, recursive=True):\n",
    "    print(filename)\n",
    "\n"
   ]
  },
  {
   "cell_type": "code",
   "execution_count": null,
   "id": "870dcdb6-7c6f-468d-b097-6dc5c8369340",
   "metadata": {},
   "outputs": [],
   "source": [
    "javafiles = list(glob(path, recursive=True))"
   ]
  },
  {
   "cell_type": "code",
   "execution_count": null,
   "id": "e898dfda-bc30-4c5e-8e6f-6a00c5380905",
   "metadata": {},
   "outputs": [],
   "source": [
    "## Parser function\n",
    "import javalang\n",
    "\n",
    "def getAST(path: str):\n",
    "    with open(path, \"r\") as f:\n",
    "        code = f.read()\n",
    "    return javalang.parse.parse(code)"
   ]
  },
  {
   "cell_type": "markdown",
   "id": "ec7fe60b-efde-4da8-b695-4069fb748697",
   "metadata": {},
   "source": [
    "## Get AST one-by-one"
   ]
  },
  {
   "cell_type": "markdown",
   "id": "1d0f25de-450f-40f8-9da0-47a453b8912f",
   "metadata": {},
   "source": [
    "## Detect `extends` and `implements`"
   ]
  },
  {
   "cell_type": "markdown",
   "id": "f85d3c3c-0ba3-4725-a1c1-62e648f7622e",
   "metadata": {},
   "source": [
    "## Store generalization relationships in a data structure"
   ]
  },
  {
   "cell_type": "markdown",
   "id": "55d085f8-04fd-4fd9-8291-90916105134f",
   "metadata": {},
   "source": [
    "# Association"
   ]
  },
  {
   "cell_type": "markdown",
   "id": "27791f55-3736-4047-a010-e23ea49bb98f",
   "metadata": {},
   "source": [
    "## Composition"
   ]
  },
  {
   "cell_type": "markdown",
   "id": "f7ad731f-1a1e-4d8c-a0f5-9799b86d975b",
   "metadata": {},
   "source": [
    "## Aggregation"
   ]
  },
  {
   "cell_type": "code",
   "execution_count": null,
   "id": "105ef9d0-41b5-41f6-b88f-f50d3c5bd608",
   "metadata": {},
   "outputs": [],
   "source": []
  }
 ],
 "metadata": {
  "kernelspec": {
   "display_name": "Python 3 (ipykernel)",
   "language": "python",
   "name": "python3"
  },
  "language_info": {
   "codemirror_mode": {
    "name": "ipython",
    "version": 3
   },
   "file_extension": ".py",
   "mimetype": "text/x-python",
   "name": "python",
   "nbconvert_exporter": "python",
   "pygments_lexer": "ipython3",
   "version": "3.11.6"
  }
 },
 "nbformat": 4,
 "nbformat_minor": 5
}
