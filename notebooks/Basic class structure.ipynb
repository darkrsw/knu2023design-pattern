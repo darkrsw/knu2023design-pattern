{
 "cells": [
  {
   "cell_type": "markdown",
   "id": "e7c0f291-414f-4b74-a916-0d3817e13daa",
   "metadata": {},
   "source": [
    "# Basic class structure"
   ]
  },
  {
   "cell_type": "code",
   "execution_count": 11,
   "id": "e63d6843-3cde-49ad-91a2-3381711cd930",
   "metadata": {},
   "outputs": [
    {
     "name": "stdout",
     "output_type": "stream",
     "text": [
      "<class 'javalang.tree.CompilationUnit'>\n",
      "<class 'javalang.tree.PackageDeclaration'>\n",
      "<class 'javalang.tree.Import'>\n",
      "<class 'javalang.tree.Import'>\n",
      "<class 'javalang.tree.Import'>\n",
      "<class 'javalang.tree.Import'>\n",
      "<class 'javalang.tree.Import'>\n",
      "<class 'javalang.tree.ClassDeclaration'>\n",
      "<class 'javalang.tree.FieldDeclaration'>\n",
      "<class 'javalang.tree.ReferenceType'>\n",
      "<class 'javalang.tree.VariableDeclarator'>\n",
      "<class 'javalang.tree.ConstructorDeclaration'>\n",
      "<class 'javalang.tree.FormalParameter'>\n",
      "<class 'javalang.tree.ReferenceType'>\n",
      "<class 'javalang.tree.StatementExpression'>\n",
      "<class 'javalang.tree.Assignment'>\n",
      "<class 'javalang.tree.This'>\n",
      "<class 'javalang.tree.MemberReference'>\n",
      "<class 'javalang.tree.MemberReference'>\n",
      "<class 'javalang.tree.ConstructorDeclaration'>\n",
      "<class 'javalang.tree.StatementExpression'>\n",
      "<class 'javalang.tree.ExplicitConstructorInvocation'>\n",
      "<class 'javalang.tree.ClassCreator'>\n",
      "<class 'javalang.tree.ReferenceType'>\n",
      "<class 'javalang.tree.MethodDeclaration'>\n",
      "<class 'javalang.tree.ReferenceType'>\n",
      "<class 'javalang.tree.TypeArgument'>\n",
      "<class 'javalang.tree.ReferenceType'>\n",
      "<class 'javalang.tree.FormalParameter'>\n",
      "<class 'javalang.tree.ReferenceType'>\n",
      "<class 'javalang.tree.LocalVariableDeclaration'>\n",
      "<class 'javalang.tree.ReferenceType'>\n",
      "<class 'javalang.tree.TypeArgument'>\n",
      "<class 'javalang.tree.ReferenceType'>\n",
      "<class 'javalang.tree.VariableDeclarator'>\n",
      "<class 'javalang.tree.MethodInvocation'>\n",
      "<class 'javalang.tree.ClassReference'>\n",
      "<class 'javalang.tree.ReferenceType'>\n",
      "<class 'javalang.tree.StatementExpression'>\n",
      "<class 'javalang.tree.MethodInvocation'>\n",
      "<class 'javalang.tree.MethodReference'>\n",
      "<class 'javalang.tree.MemberReference'>\n",
      "<class 'javalang.tree.MemberReference'>\n",
      "<class 'javalang.tree.ReturnStatement'>\n",
      "<class 'javalang.tree.MemberReference'>\n",
      "<class 'javalang.tree.MethodDeclaration'>\n",
      "<class 'javalang.tree.ReferenceType'>\n",
      "<class 'javalang.tree.FormalParameter'>\n",
      "<class 'javalang.tree.ReferenceType'>\n",
      "<class 'javalang.tree.ForStatement'>\n",
      "<class 'javalang.tree.EnhancedForControl'>\n",
      "<class 'javalang.tree.VariableDeclaration'>\n",
      "<class 'javalang.tree.ReferenceType'>\n",
      "<class 'javalang.tree.VariableDeclarator'>\n",
      "<class 'javalang.tree.MethodInvocation'>\n",
      "<class 'javalang.tree.MemberReference'>\n",
      "<class 'javalang.tree.BlockStatement'>\n",
      "<class 'javalang.tree.IfStatement'>\n",
      "<class 'javalang.tree.MethodInvocation'>\n",
      "<class 'javalang.tree.BlockStatement'>\n",
      "<class 'javalang.tree.ReturnStatement'>\n",
      "<class 'javalang.tree.MemberReference'>\n",
      "<class 'javalang.tree.ReturnStatement'>\n",
      "<class 'javalang.tree.Literal'>\n",
      "<class 'javalang.tree.MethodDeclaration'>\n",
      "<class 'javalang.tree.ReferenceType'>\n",
      "<class 'javalang.tree.FormalParameter'>\n",
      "<class 'javalang.tree.ReferenceType'>\n",
      "<class 'javalang.tree.FormalParameter'>\n",
      "<class 'javalang.tree.ReferenceType'>\n",
      "<class 'javalang.tree.FormalParameter'>\n",
      "<class 'javalang.tree.ReferenceType'>\n",
      "<class 'javalang.tree.LocalVariableDeclaration'>\n",
      "<class 'javalang.tree.ReferenceType'>\n",
      "<class 'javalang.tree.VariableDeclarator'>\n",
      "<class 'javalang.tree.MethodInvocation'>\n",
      "<class 'javalang.tree.MemberReference'>\n",
      "<class 'javalang.tree.IfStatement'>\n",
      "<class 'javalang.tree.BinaryOperation'>\n",
      "<class 'javalang.tree.MemberReference'>\n",
      "<class 'javalang.tree.Literal'>\n",
      "<class 'javalang.tree.BlockStatement'>\n",
      "<class 'javalang.tree.ReturnStatement'>\n",
      "<class 'javalang.tree.MethodInvocation'>\n",
      "<class 'javalang.tree.MemberReference'>\n",
      "<class 'javalang.tree.MemberReference'>\n",
      "<class 'javalang.tree.MemberReference'>\n",
      "<class 'javalang.tree.ThrowStatement'>\n",
      "<class 'javalang.tree.ClassCreator'>\n",
      "<class 'javalang.tree.ReferenceType'>\n",
      "<class 'javalang.tree.Literal'>\n",
      "<class 'javalang.tree.MethodDeclaration'>\n",
      "<class 'javalang.tree.ReferenceType'>\n",
      "<class 'javalang.tree.FormalParameter'>\n",
      "<class 'javalang.tree.ReferenceType'>\n",
      "<class 'javalang.tree.FormalParameter'>\n",
      "<class 'javalang.tree.ReferenceType'>\n",
      "<class 'javalang.tree.LocalVariableDeclaration'>\n",
      "<class 'javalang.tree.ReferenceType'>\n",
      "<class 'javalang.tree.VariableDeclarator'>\n",
      "<class 'javalang.tree.MethodInvocation'>\n",
      "<class 'javalang.tree.MemberReference'>\n",
      "<class 'javalang.tree.IfStatement'>\n",
      "<class 'javalang.tree.BinaryOperation'>\n",
      "<class 'javalang.tree.MemberReference'>\n",
      "<class 'javalang.tree.Literal'>\n",
      "<class 'javalang.tree.BlockStatement'>\n",
      "<class 'javalang.tree.ReturnStatement'>\n",
      "<class 'javalang.tree.MethodInvocation'>\n",
      "<class 'javalang.tree.MemberReference'>\n",
      "<class 'javalang.tree.MemberReference'>\n",
      "<class 'javalang.tree.ThrowStatement'>\n",
      "<class 'javalang.tree.ClassCreator'>\n",
      "<class 'javalang.tree.ReferenceType'>\n",
      "<class 'javalang.tree.Literal'>\n",
      "<class 'javalang.tree.MethodDeclaration'>\n",
      "<class 'javalang.tree.ReferenceType'>\n",
      "<class 'javalang.tree.TypeArgument'>\n",
      "<class 'javalang.tree.ReferenceType'>\n",
      "<class 'javalang.tree.ReturnStatement'>\n",
      "<class 'javalang.tree.MethodInvocation'>\n",
      "<class 'javalang.tree.MemberReference'>\n",
      "<class 'javalang.tree.MethodDeclaration'>\n",
      "<class 'javalang.tree.ReferenceType'>\n",
      "<class 'javalang.tree.ReturnStatement'>\n",
      "<class 'javalang.tree.MethodInvocation'>\n",
      "<class 'javalang.tree.MemberReference'>\n",
      "<class 'javalang.tree.MethodDeclaration'>\n",
      "<class 'javalang.tree.BasicType'>\n",
      "<class 'javalang.tree.ReturnStatement'>\n",
      "<class 'javalang.tree.BinaryOperation'>\n",
      "<class 'javalang.tree.MethodInvocation'>\n",
      "<class 'javalang.tree.MemberReference'>\n",
      "<class 'javalang.tree.Literal'>\n",
      "<class 'javalang.tree.ReferenceType'>\n"
     ]
    }
   ],
   "source": [
    "import javalang\n",
    "\n",
    "with open(\"in1.java\", \"r\") as f:\n",
    "    code = f.read()\n",
    "\n",
    "myast = javalang.parse.parse(code)\n",
    "\n",
    "for node in javalang.ast.walk_tree(myast):\n",
    "    print(type(node[1]))"
   ]
  },
  {
   "cell_type": "markdown",
   "id": "4d94866b-2925-4ca1-98d1-4d32d00b040b",
   "metadata": {},
   "source": [
    "## Collect package information"
   ]
  },
  {
   "cell_type": "markdown",
   "id": "c6804272-21eb-4fa0-87cc-706a6180978c",
   "metadata": {},
   "source": [
    "## Collect imported packages and classes"
   ]
  },
  {
   "cell_type": "markdown",
   "id": "efa20792-6d5e-4195-8afe-ea0de42d69b4",
   "metadata": {},
   "source": [
    "## Collect member variables"
   ]
  },
  {
   "cell_type": "markdown",
   "id": "bbb21f52-1b98-4749-8984-75a26988b29d",
   "metadata": {},
   "source": [
    "## Collect member functions"
   ]
  },
  {
   "cell_type": "markdown",
   "id": "ba2f6f08-60f5-45b7-b749-9b71079750f9",
   "metadata": {},
   "source": [
    "## Collect statements"
   ]
  }
 ],
 "metadata": {
  "kernelspec": {
   "display_name": "Python 3 (ipykernel)",
   "language": "python",
   "name": "python3"
  },
  "language_info": {
   "codemirror_mode": {
    "name": "ipython",
    "version": 3
   },
   "file_extension": ".py",
   "mimetype": "text/x-python",
   "name": "python",
   "nbconvert_exporter": "python",
   "pygments_lexer": "ipython3",
   "version": "3.11.6"
  }
 },
 "nbformat": 4,
 "nbformat_minor": 5
}
