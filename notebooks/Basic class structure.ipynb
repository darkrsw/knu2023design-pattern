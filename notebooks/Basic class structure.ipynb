{
 "cells": [
  {
   "cell_type": "markdown",
   "id": "e7c0f291-414f-4b74-a916-0d3817e13daa",
   "metadata": {},
   "source": [
    "# Basic class structure"
   ]
  },
  {
   "cell_type": "code",
   "execution_count": null,
   "id": "0cb958f5",
   "metadata": {},
   "outputs": [],
   "source": [
    "import javalang\n",
    "\n",
    "with open(\"in2.java\", \"r\") as f:\n",
    "    code = f.read()\n",
    "\n",
    "myast = javalang.parse.parse(code)\n",
    "\n",
    "for node in javalang.ast.walk_tree(myast):\n",
    "    print(type(node[1]))"
   ]
  },
  {
   "cell_type": "markdown",
   "id": "4d94866b-2925-4ca1-98d1-4d32d00b040b",
   "metadata": {},
   "source": [
    "## Collect package information"
   ]
  },
  {
   "cell_type": "code",
   "execution_count": null,
   "id": "f61ee8eb",
   "metadata": {},
   "outputs": [],
   "source": [
    "for path, node in javalang.ast.walk_tree(myast):\n",
    "    if isinstance(node, javalang.tree.PackageDeclaration):\n",
    "        print(\"name:\", node.name)\n",
    "        print(\"document:\", type(node.documentation))\n",
    "        print(\"modifiers:\", node.modifiers)\n",
    "        print(\"annotations:\", node.annotations)"
   ]
  },
  {
   "cell_type": "markdown",
   "id": "c6804272-21eb-4fa0-87cc-706a6180978c",
   "metadata": {},
   "source": [
    "## Collect imported packages and classes"
   ]
  },
  {
   "cell_type": "code",
   "execution_count": null,
   "id": "3a8c5c12",
   "metadata": {},
   "outputs": [],
   "source": [
    "for path, node in javalang.ast.walk_tree(myast):\n",
    "    if isinstance(node, javalang.tree.Import):\n",
    "            print(\"path:\", node.path)\n",
    "            print(\"static:\", node.static)\n",
    "            print(\"wildcard:\", node.wildcard)"
   ]
  },
  {
   "cell_type": "markdown",
   "id": "44499a48",
   "metadata": {},
   "source": [
    "## Collect class definitions"
   ]
  },
  {
   "cell_type": "code",
   "execution_count": null,
   "id": "3f4748ad",
   "metadata": {},
   "outputs": [],
   "source": [
    "class_nodes = []\n",
    "\n",
    "for path, node in javalang.ast.walk_tree(myast):\n",
    "    if isinstance(node, javalang.tree.ClassDeclaration):\n",
    "            class_nodes.append(node)\n",
    "            print(\"name:\", node.name)\n",
    "            print(\"modifiers:\", node.modifiers)\n",
    "            print(\"annotations:\", node.annotations)\n",
    "            print(\"type_parameters:\", node.type_parameters)\n",
    "            print(\"extends:\", node.extends)\n",
    "            print(\"implements:\", node.implements)\n",
    "            print(\"document:\", len(node.documentation))"
   ]
  },
  {
   "cell_type": "markdown",
   "id": "efa20792-6d5e-4195-8afe-ea0de42d69b4",
   "metadata": {},
   "source": [
    "## Collect member variables"
   ]
  },
  {
   "cell_type": "code",
   "execution_count": null,
   "id": "950d7a7a",
   "metadata": {},
   "outputs": [],
   "source": [
    "# for path, node in javalang.ast.walk_tree(myast):\n",
    "for aclass in class_nodes:\n",
    "    for field in aclass.fields:\n",
    "#         if isinstance(node, javalang.tree.FieldDeclaration):\n",
    "        print(\"type:\", field.type)\n",
    "        print(\"modifier:\", field.modifiers)\n",
    "        print(\"annotations:\", field.annotations)\n",
    "        for decl in field.declarators:\n",
    "            print(\"declarated name:\", decl.name)"
   ]
  },
  {
   "cell_type": "markdown",
   "id": "e0db74c4",
   "metadata": {},
   "source": [
    "## Collect constructor"
   ]
  },
  {
   "cell_type": "code",
   "execution_count": null,
   "id": "6cc102ac",
   "metadata": {},
   "outputs": [],
   "source": [
    "# for path, node in javalang.ast.walk_tree(myast):\n",
    "#     if isinstance(node, javalang.tree.ConstructorDeclaration):\n",
    "for aclass in class_nodes:\n",
    "    for const in aclass.constructors:\n",
    "        print(\"modifier:\", const.modifiers)\n",
    "        print(\"annotations:\", const.annotations)\n",
    "        print(\"type_parameters:\", const.type_parameters)\n",
    "        print(\"name:\", const.name)\n",
    "        print(\"params:\", const.parameters)\n",
    "        print(\"throws:\", const.throws)\n",
    "        print(\"body_size:\", len(const.body))"
   ]
  },
  {
   "cell_type": "markdown",
   "id": "bbb21f52-1b98-4749-8984-75a26988b29d",
   "metadata": {},
   "source": [
    "## Collect member functions"
   ]
  },
  {
   "cell_type": "code",
   "execution_count": null,
   "id": "2767c3b6",
   "metadata": {},
   "outputs": [],
   "source": [
    "for aclass in class_nodes:\n",
    "    for amethod in aclass.methods:\n",
    "        print(\"====================\")\n",
    "        print(\"name:\", amethod.name)\n",
    "        print(\"modifier:\", amethod.modifiers)\n",
    "        print(\"annotations:\", amethod.annotations)\n",
    "        print(\"type_parameters:\", amethod.type_parameters)\n",
    "        print(\"params:\", amethod.parameters)\n",
    "        print(\"throws:\", amethod.throws)\n",
    "        print(\"body_size:\", len(amethod.body))\n",
    "        print(\"return_type:\", amethod.return_type)"
   ]
  },
  {
   "cell_type": "markdown",
   "id": "ba2f6f08-60f5-45b7-b749-9b71079750f9",
   "metadata": {},
   "source": [
    "## Collect throws and explicit exceptions"
   ]
  },
  {
   "cell_type": "code",
   "execution_count": null,
   "id": "c25122f4",
   "metadata": {},
   "outputs": [],
   "source": [
    "for aclass in class_nodes:\n",
    "    for amethod in aclass.methods:\n",
    "\n",
    "        decl_throws = set(amethod.throws) if amethod.throws is not None else set()\n",
    "        print(f\"{amethod.name}:{decl_throws}\")\n",
    "        for path, node in javalang.ast.walk_tree(amethod.body):\n",
    "            if isinstance(node, javalang.tree.ReferenceType):\n",
    "                decl_throws = decl_throws - set([node.name])\n",
    "                \n",
    "        print(f\"remaining exceptions: {decl_throws}\")"
   ]
  },
  {
   "cell_type": "code",
   "execution_count": null,
   "id": "d7577da6",
   "metadata": {},
   "outputs": [],
   "source": [
    "all_fields_static = True\n",
    "all_methods_static = True\n",
    "\n",
    "for aclass in class_nodes:\n",
    "    for amethod in aclass.methods:\n",
    "        if \"static\" not in amethod.modifiers:\n",
    "            all_methods_static = False\n",
    "    for field in aclass.fields:\n",
    "        if \"static\" not in field.modifiers:\n",
    "            all_fields_static = False\n",
    "\n",
    "print(\"all_fields_static:\", all_fields_static)\n",
    "print(\"all_methods_static:\", all_methods_static)"
   ]
  },
  {
   "cell_type": "code",
   "execution_count": null,
   "id": "92a6052f",
   "metadata": {},
   "outputs": [],
   "source": []
  }
 ],
 "metadata": {
  "kernelspec": {
   "display_name": "Python 3 (ipykernel)",
   "language": "python",
   "name": "python3"
  },
  "language_info": {
   "codemirror_mode": {
    "name": "ipython",
    "version": 3
   },
   "file_extension": ".py",
   "mimetype": "text/x-python",
   "name": "python",
   "nbconvert_exporter": "python",
   "pygments_lexer": "ipython3",
   "version": "3.11.6"
  }
 },
 "nbformat": 4,
 "nbformat_minor": 5
}
